{
 "cells": [
  {
   "cell_type": "code",
   "execution_count": null,
   "id": "e121709c",
   "metadata": {},
   "outputs": [],
   "source": [
    "from sqlvis import vis\n",
    "import sqlite3\n",
    "\n",
    "conn = sqlite3.connect('../../data/shopping.db')"
   ]
  },
  {
   "cell_type": "code",
   "execution_count": null,
   "id": "96788f37",
   "metadata": {},
   "outputs": [],
   "source": [
    "# Retrieve the shema from the db connection\n",
    "schema = vis.schema_from_conn(conn)"
   ]
  },
  {
   "cell_type": "code",
   "execution_count": null,
   "id": "134ba36b",
   "metadata": {},
   "outputs": [],
   "source": [
    "schema"
   ]
  },
  {
   "cell_type": "code",
   "execution_count": null,
   "id": "7faa6824",
   "metadata": {},
   "outputs": [],
   "source": [
    "query = '''\n",
    "SELECT *\n",
    "FROM customer, purchase\n",
    "WHERE customer.cID = purchase.cID\n",
    "'''\n",
    "\n",
    "# Generate the visualization.\n",
    "vis.visualize(query, schema)\n",
    "\n",
    "cur = conn.cursor()\n",
    "res = cur.execute(query)\n",
    "output = res.fetchall()\n",
    "print('Query output (truncated):\\n', output[:60])"
   ]
  },
  {
   "cell_type": "code",
   "execution_count": null,
   "id": "379130d8",
   "metadata": {},
   "outputs": [],
   "source": []
  }
 ],
 "metadata": {
  "kernelspec": {
   "display_name": "Python 3 (ipykernel)",
   "language": "python",
   "name": "python3"
  },
  "language_info": {
   "codemirror_mode": {
    "name": "ipython",
    "version": 3
   },
   "file_extension": ".py",
   "mimetype": "text/x-python",
   "name": "python",
   "nbconvert_exporter": "python",
   "pygments_lexer": "ipython3",
   "version": "3.8.10"
  }
 },
 "nbformat": 4,
 "nbformat_minor": 5
}
