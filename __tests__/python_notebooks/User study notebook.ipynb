{
 "cells": [
  {
   "cell_type": "code",
   "execution_count": 1,
   "id": "c7b4a400",
   "metadata": {},
   "outputs": [],
   "source": [
    "from sqlvis import vis\n",
    "import sqlite3\n",
    "\n",
    "conn = sqlite3.connect('../../data/shopping.db')"
   ]
  },
  {
   "cell_type": "code",
   "execution_count": 2,
   "id": "8268607a",
   "metadata": {},
   "outputs": [],
   "source": [
    "# Retrieve the schema from the db connection\n",
    "schema = vis.schema_from_conn(conn)\n",
    "schema"
   ]
  },
  {
   "cell_type": "markdown",
   "id": "ae1c0ee8",
   "metadata": {},
   "source": [
    "# Missing: Shopping database diagram"
   ]
  },
  {
   "cell_type": "markdown",
   "id": "d81a7858",
   "metadata": {},
   "source": [
    "## Demonstration: normal query\n",
    "Give the prices of each purchase made by each customer, and for each of these specify the name of the customer that made that purchase."
   ]
  },
  {
   "cell_type": "code",
   "execution_count": 7,
   "id": "4294989a",
   "metadata": {},
   "outputs": [],
   "source": [
    "query = '''\n",
    "SELECT p.price, c.cName\n",
    "FROM customer AS c, purchase AS p\n",
    "WHERE c.cID = p.cID\n",
    "'''\n",
    "\n",
    "# Generate the visualization.\n",
    "vis.visualize(query, schema)\n",
    "\n",
    "cur = conn.cursor()\n",
    "res = cur.execute(query)\n",
    "output = res.fetchall()\n",
    "print('Query output:\\n', output)"
   ]
  },
  {
   "cell_type": "markdown",
   "id": "a9186f6a",
   "metadata": {},
   "source": [
    "## Demonstration 2\n",
    "Give the total amount of money spent in stores for each individual day. Only include small purchases (less than five things bought), and only include days where many purchases were done (more than fifty purchases)."
   ]
  },
  {
   "cell_type": "code",
   "execution_count": 3,
   "id": "c37d485b",
   "metadata": {},
   "outputs": [],
   "source": [
    "query = '''\n",
    "SELECT p.date, SUM(p.price)\n",
    "FROM purchase AS p\n",
    "WHERE quantity < 5\n",
    "GROUP BY p.date\n",
    "HAVING COUNT(tID) > 50\n",
    "'''\n",
    "\n",
    "# Generate the visualization.\n",
    "vis.visualize(query, schema)\n",
    "\n",
    "cur = conn.cursor()\n",
    "res = cur.execute(query)\n",
    "output = res.fetchall()\n",
    "print('Query output:\\n', output)"
   ]
  },
  {
   "cell_type": "markdown",
   "id": "bb7e1804",
   "metadata": {},
   "source": [
    "## Demonstration: query with error\n",
    "Give the total amount of money spent in stores for each individual day. Only include large scale purchases (more than ten things bought), and only include days where few purchases were done (less than five purchases)."
   ]
  },
  {
   "cell_type": "code",
   "execution_count": 4,
   "id": "1cca419d",
   "metadata": {},
   "outputs": [],
   "source": [
    "query = '''\n",
    "SELECT SUM(p.price)\n",
    "FROM purchase AS p\n",
    "WHERE p.quantity > 10\n",
    "GROUP BY p.date\n",
    "HAVING COUNT(p.pID) < 5\n",
    "'''\n",
    "\n",
    "# Generate the visualization.\n",
    "vis.visualize(query, schema)\n",
    "\n",
    "cur = conn.cursor()\n",
    "res = cur.execute(query)\n",
    "output = res.fetchall()\n",
    "print('Query output:\\n', output)"
   ]
  },
  {
   "cell_type": "markdown",
   "id": "bdd7aa37",
   "metadata": {},
   "source": [
    "## Problem 1\n",
    "For each customer, give both their largest and smallest amounts of money they have spent on a single purchase."
   ]
  },
  {
   "cell_type": "markdown",
   "id": "3c0fe1c0",
   "metadata": {},
   "source": [
    "Issues:\n",
    "- cName is tagged in red, but the cell isn't highlighted or autoexpanded and there is no tooltip?\n",
    "    - Update: I implemented selection object handling, and now it's not even tagged in red anymore... not better."
   ]
  },
  {
   "cell_type": "code",
   "execution_count": 5,
   "id": "77fb6c08",
   "metadata": {},
   "outputs": [],
   "source": [
    "query = '''\n",
    "SELECT MAX(p.price), MIN(p.price), cName\n",
    "WHERE c.cID = p.cID\n",
    "FROM customer AS c, purchase AS p\n",
    "'''\n",
    "\n",
    "# Generate the visualization.\n",
    "vis.visualize(query, schema)\n",
    "\n",
    "cur = conn.cursor()\n",
    "res = cur.execute(query)\n",
    "output = res.fetchall()\n",
    "print('Query output:\\n', output)"
   ]
  },
  {
   "cell_type": "markdown",
   "id": "a493f17a",
   "metadata": {},
   "source": [
    "## Problem 2\n",
    "On a per-city and per-day basis, report per customer what their smallest and largest purchases on that day were."
   ]
  },
  {
   "cell_type": "markdown",
   "id": "beee6c12",
   "metadata": {},
   "source": [
    "Issues here:\n",
    "- Where in the SELECT the error occurs defines whether it is marked as a problem or not?\n",
    "- In- or excluding the `p.` changes whether it is visualized (may be because vis doesn't know which table to attach the error to? But the highlight is still made... huh?)"
   ]
  },
  {
   "cell_type": "code",
   "execution_count": 8,
   "id": "86c1fffc",
   "metadata": {},
   "outputs": [],
   "source": [
    "# Commented versions are different error variations, for debug reasons\n",
    "query = '''\n",
    "SELECT MAX(p.price), date, MIN(p.price), cName\n",
    "FROM customer AS c, purchase AS p\n",
    "WHERE c.cID = p.cID\n",
    "GROUP BY cName, c.city\n",
    "'''\n",
    "\n",
    "# query = '''\n",
    "# SELECT MAX(p.price), MIN(p.price), cName, date\n",
    "# FROM customer AS c, purchase AS p\n",
    "# WHERE c.cID = p.cID\n",
    "# GROUP BY cName, c.city\n",
    "# '''\n",
    "\n",
    "# query = '''\n",
    "# SELECT p.date, MAX(p.price), MIN(p.price), cName\n",
    "# FROM customer AS c, purchase AS p\n",
    "# WHERE c.cID = p.cID\n",
    "# GROUP BY cName, c.city\n",
    "# '''\n",
    "\n",
    "# query = '''\n",
    "# SELECT MAX(p.price), MIN(p.price), cName, p.date\n",
    "# FROM customer AS c, purchase AS p\n",
    "# WHERE c.cID = p.cID\n",
    "# GROUP BY cName, c.city\n",
    "# '''\n",
    "\n",
    "# Generate the visualization.\n",
    "vis.visualize(query, schema)\n",
    "\n",
    "cur = conn.cursor()\n",
    "res = cur.execute(query)\n",
    "output = res.fetchall()\n",
    "print('Query output:\\n', output)"
   ]
  },
  {
   "cell_type": "markdown",
   "id": "29ce9f31",
   "metadata": {},
   "source": [
    "## Problem 3\n",
    "What is the maximum and minimum amount spent in a single purchase by each customers living in a city that has at least one store? Consider only customers who have made purchases with a quantity greater than 5."
   ]
  },
  {
   "cell_type": "markdown",
   "id": "750ea3ab",
   "metadata": {},
   "source": [
    "Issues here:\n",
    "- GROUP BY mistake not highlighting node, also no tooltip (this error will also disappear when the one below is fixed)\n",
    "- WHERE should be late instead of GROUP BY early (@root level)\n",
    "- Side error: referencing error in subquery is not detected? (try making it s.cit) May be related to me breaking selections though"
   ]
  },
  {
   "cell_type": "code",
   "execution_count": 12,
   "id": "3eae90d8",
   "metadata": {},
   "outputs": [],
   "source": [
    "query = '''\n",
    "SELECT MAX(p.price), MIN(p.price), cName\n",
    "FROM customer AS c, purchase AS p\n",
    "GROUP BY cName\n",
    "HAVING p.quantity > 5\n",
    "WHERE c.cID = p.cID\n",
    "AND c.city IN (FROM store AS s\n",
    "               SELECT s.city)\n",
    "'''\n",
    "\n",
    "# Generate the visualization.\n",
    "vis.visualize(query, schema)\n",
    "\n",
    "cur = conn.cursor()\n",
    "res = cur.execute(query)\n",
    "output = res.fetchall()\n",
    "print('Query output:\\n', output)"
   ]
  },
  {
   "cell_type": "markdown",
   "id": "e738591d",
   "metadata": {},
   "source": [
    "## Problem 4\n",
    "Find each customer's number of items purchased per store. Only consider cases where the customer lives in the same city where the store is they purchased the items at."
   ]
  },
  {
   "cell_type": "markdown",
   "id": "401d23a5",
   "metadata": {},
   "source": [
    "Issues:\n",
    "- Tooltip boxes are too small, that's the only issue really."
   ]
  },
  {
   "cell_type": "code",
   "execution_count": 12,
   "id": "5ccbb043",
   "metadata": {},
   "outputs": [],
   "source": [
    "query = '''\n",
    "SELECT s.sName, c.cName, SUM(p.quantity)\n",
    "FROM customer AS c, purchase AS p, store AS s\n",
    "WHERE c.cID = p.cID\n",
    "WHERE s.city = c.city\n",
    "WHERE s.sID = p.sID\n",
    "'''\n",
    "\n",
    "# Generate the visualization.\n",
    "vis.visualize(query, schema)\n",
    "\n",
    "cur = conn.cursor()\n",
    "res = cur.execute(query)\n",
    "output = res.fetchall()\n",
    "print('Query output:\\n', output)"
   ]
  },
  {
   "cell_type": "markdown",
   "id": "e86636d4",
   "metadata": {},
   "source": [
    "## Problem 5\n",
    "Find the total quantity of products purchased per store in Eindhoven, by customers from Eindhoven who made fewer than 10 purchases (transactions) in that store."
   ]
  },
  {
   "cell_type": "markdown",
   "id": "59138157",
   "metadata": {},
   "source": [
    "Issues:\n",
    "- The WHERE with aggregation triggers changing the entire WHERE to HAVING, which breaks more things.\n",
    "- Late keyword detection is triggered incorrectly (I thought that wasn't even reachable?), why? And also, why does that crash this query?"
   ]
  },
  {
   "cell_type": "code",
   "execution_count": 14,
   "id": "ce9ae849",
   "metadata": {},
   "outputs": [],
   "source": [
    "query = '''\n",
    "SELECT s.sName, c.cName, SUM(p.quantity)\n",
    "FROM customer AS c, purchase AS p, store AS s\n",
    "WHERE c.cID = p.cID\n",
    "AND s.city = c.city\n",
    "AND COUNT(p.pID) < 10\n",
    "GROUP BY c.cName, s.sName\n",
    "HAVING s.sName IN (FROM store AS s2\n",
    "                   SELECT s2.sName\n",
    "                   WHERE s2.city = 'Eindhoven'\n",
    "                  )\n",
    "'''\n",
    "\n",
    "# Generate the visualization.\n",
    "vis.visualize(query, schema)\n",
    "\n",
    "cur = conn.cursor()\n",
    "res = cur.execute(query)\n",
    "output = res.fetchall()\n",
    "print('Query output:\\n', output)"
   ]
  },
  {
   "cell_type": "markdown",
   "id": "050bb871",
   "metadata": {},
   "source": [
    "## Problem 6\n",
    "Which store names and corresponding purchase dates are associated with purchases made from stores that satisfy the following conditions:\n",
    "- The store's name must contain the letter 'e'.\n",
    "- There must be at least two other stores with the letter 'e' in the same city.\n",
    "- The store must be in a city where at least 20 registered customers live. These customers do not need to ever have bought anything at this particular store."
   ]
  },
  {
   "cell_type": "markdown",
   "id": "69bbf99a",
   "metadata": {},
   "source": [
    "Issues:\n",
    "- How is the parsing crashing?????\n",
    "- Late keyword detection is triggered, and once again crashes the system on insertErrorInfo. How?????"
   ]
  },
  {
   "cell_type": "code",
   "execution_count": 15,
   "id": "daadca6e",
   "metadata": {},
   "outputs": [],
   "source": [
    "query = '''\n",
    "WITH confusion AS (\n",
    "    FROM store AS s1\n",
    "    WHERE s1.sName LIKE '%e%'\n",
    "    AND COUNT(s1.sID) > 2\n",
    "    GROUP BY s1.city\n",
    "    HAVING s1.city IN (FROM customer AS c1\n",
    "                       GROUP BY c1.city\n",
    "                       HAVING COUNT(c1.cID) > 20\n",
    "                       SELECT c1.city\n",
    "                      )\n",
    "    SELECT s1.sName)\n",
    "\n",
    "FROM confusion AS co, purchase AS pur, store as s2\n",
    "WHERE s2.sName = co.sName\n",
    "AND s2.sID = pur.sID\n",
    "SELECT co.sName, pur.date\n",
    "'''\n",
    "\n",
    "# Generate the visualization.\n",
    "vis.visualize(query, schema)\n",
    "\n",
    "cur = conn.cursor()\n",
    "res = cur.execute(query)\n",
    "output = res.fetchall()\n",
    "print('Query output:\\n', output)"
   ]
  },
  {
   "cell_type": "markdown",
   "id": "71c326a0",
   "metadata": {},
   "source": [
    "## Problem 7\n",
    "We want to know whether customers from a particular city spend more or less money at our stores. What are the maximum and minimum amounts of money spent in a single purchase, grouped on the city where the customers come from? Only include customer cities from where the inhabitants buy more than 5 products at once on average and at least 2 items at once in a purchase. For some reason, management also wants the customers to specifically come from addresses with 'straat' in the name."
   ]
  },
  {
   "cell_type": "markdown",
   "id": "5d36518d",
   "metadata": {},
   "source": [
    "Issues:\n",
    "- Double HAVING issue is not being shown at all.\n",
    "- Because of it being double HAVING, the `cName LIKE '%a%'` is not visualized?\n",
    "- The `cName LIKE '%a%'`, when visualized, is shown as a WHERE component (due to it not containing aggregation).\n",
    "- city is made orange as if it is being selected... it is not. That is the entire problem for incorr grouping."
   ]
  },
  {
   "cell_type": "code",
   "execution_count": 19,
   "id": "bde62458",
   "metadata": {},
   "outputs": [],
   "source": [
    "query = '''\n",
    "SELECT MAX(p.price), MIN(p.price)\n",
    "FROM customer AS c, purchase AS p\n",
    "WHERE c.cID = p.cID\n",
    "GROUP BY c.city\n",
    "HAVING AVG(p.quantity) > 5\n",
    "HAVING MIN(p.quantity) > 2\n",
    "HAVING c.street LIKE '%straat%'\n",
    "'''\n",
    "\n",
    "# Generate the visualization.\n",
    "vis.visualize(query, schema)\n",
    "\n",
    "cur = conn.cursor()\n",
    "res = cur.execute(query)\n",
    "output = res.fetchall()\n",
    "print('Query output:\\n', output)"
   ]
  },
  {
   "cell_type": "markdown",
   "id": "1037622c",
   "metadata": {},
   "source": [
    "## Problem 8\n",
    "Find the largest and smallest amounts of money spent in a purchase per day."
   ]
  },
  {
   "cell_type": "markdown",
   "id": "2841f0d8",
   "metadata": {},
   "source": [
    "Issues: no issues, working as intended"
   ]
  },
  {
   "cell_type": "code",
   "execution_count": 20,
   "id": "a477e585",
   "metadata": {},
   "outputs": [],
   "source": [
    "query = '''\n",
    "SELECT MAX(p.price), MIN(p.price), p.date\n",
    "FROM purchase AS p\n",
    "'''\n",
    "\n",
    "# Generate the visualization.\n",
    "vis.visualize(query, schema)\n",
    "\n",
    "cur = conn.cursor()\n",
    "res = cur.execute(query)\n",
    "output = res.fetchall()\n",
    "print('Query output:\\n', output)"
   ]
  },
  {
   "cell_type": "markdown",
   "id": "5efc5070",
   "metadata": {},
   "source": [
    "## Problem 9\n",
    "Which products have been purchased by customers in each city, and what is the average quantity of those products for each city?"
   ]
  },
  {
   "cell_type": "markdown",
   "id": "4f144414",
   "metadata": {},
   "source": [
    "Issues:\n",
    "- p.pName is not grouped on, but not visualized as an error\n",
    "- pur.pID is highlighted as selected but isn't, that's the problem... so don't show it as being selected?"
   ]
  },
  {
   "cell_type": "code",
   "execution_count": 27,
   "id": "b42f0be4",
   "metadata": {},
   "outputs": [],
   "source": [
    "query = '''\n",
    "SELECT c.city, p.pName, AVG(pur.quantity) AS average_quantity\n",
    "FROM customer AS c, purchase AS pur, product as p\n",
    "WHERE c.cID = pur.cID\n",
    "WHERE p.pID = pur.pID\n",
    "GROUP BY c.city, pur.pID\n",
    "'''\n",
    "\n",
    "# Generate the visualization.\n",
    "vis.visualize(query, schema)\n",
    "\n",
    "cur = conn.cursor()\n",
    "res = cur.execute(query)\n",
    "output = res.fetchall()\n",
    "print('Query output:\\n', output)"
   ]
  },
  {
   "cell_type": "markdown",
   "id": "28ef5889",
   "metadata": {},
   "source": [
    "## Problem 10\n",
    "For each store, find each individual customer's records for their largest and smallest amounts spent in a single purchase."
   ]
  },
  {
   "cell_type": "markdown",
   "id": "39def32f",
   "metadata": {},
   "source": [
    "Issues:\n",
    "- (`c.`)`cName` is not being marked as insufficient aggregation.\n",
    "- s.sName is not being marked as insufficient aggregation."
   ]
  },
  {
   "cell_type": "code",
   "execution_count": 10,
   "id": "684e9ffd",
   "metadata": {},
   "outputs": [],
   "source": [
    "query = '''\n",
    "SELECT MAX(p.price), MIN(p.price), cName, sName\n",
    "FROM customer AS c, purchase AS p, store AS s\n",
    "WHERE c.cID = p.cID\n",
    "AND s.sID = p.sID\n",
    "'''\n",
    "\n",
    "# Generate the visualization.\n",
    "vis.visualize(query, schema)\n",
    "\n",
    "cur = conn.cursor()\n",
    "res = cur.execute(query)\n",
    "output = res.fetchall()\n",
    "print('Query output:\\n', output)"
   ]
  },
  {
   "cell_type": "code",
   "execution_count": null,
   "id": "9de5e221",
   "metadata": {},
   "outputs": [],
   "source": []
  }
 ],
 "metadata": {
  "kernelspec": {
   "display_name": "Python 3",
   "language": "python",
   "name": "python3"
  },
  "language_info": {
   "codemirror_mode": {
    "name": "ipython",
    "version": 3
   },
   "file_extension": ".py",
   "mimetype": "text/x-python",
   "name": "python",
   "nbconvert_exporter": "python",
   "pygments_lexer": "ipython3",
   "version": "3.6.15"
  }
 },
 "nbformat": 4,
 "nbformat_minor": 5
}
