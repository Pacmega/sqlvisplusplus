{
    "cells": [
        {
            "cell_type": "code",
            "execution_count": 114,
            "id": "c7b4a400",
            "metadata": {},
            "outputs": [],
            "source": [
                "from sqlvis import vis\n",
                "import sqlite3\n",
                "\n",
                "conn = sqlite3.connect('../../data/shopping.db')"
            ]
        },
        {
            "cell_type": "code",
            "execution_count": 115,
            "id": "8268607a",
            "metadata": {},
            "outputs": [],
            "source": [
                "# Retrieve the schema from the db connection\n",
                "schema = vis.schema_from_conn(conn)\n",
                "schema"
            ]
        },
        {
            "cell_type": "markdown",
            "id": "ae1c0ee8",
            "metadata": {},
            "source": [
                "# Missing: Shopping database diagram"
            ]
        },
        {
            "cell_type": "markdown",
            "id": "d81a7858",
            "metadata": {},
            "source": [
                "## Demonstration: normal query"
            ]
        },
        {
            "cell_type": "code",
            "execution_count": 140,
            "id": "4294989a",
            "metadata": {},
            "outputs": [],
            "source": [
                "query = '''\n",
                "SELECT p.price, c.cName\n",
                "FROM customer AS c, purchase AS p\n",
                "WHERE c.cID = p.cID\n",
                "'''\n",
                "\n",
                "# Generate the visualization.\n",
                "vis.visualize(query, schema)\n",
                "\n",
                "cur = conn.cursor()\n",
                "res = cur.execute(query)\n",
                "output = res.fetchall()\n",
                "print('Query output:\\n', output)"
            ]
        },
        {
            "cell_type": "code",
            "execution_count": 141,
            "id": "c37d485b",
            "metadata": {},
            "outputs": [],
            "source": [
                "query = '''\n",
                "SELECT p.date, SUM(p.price)\n",
                "FROM purchase AS p\n",
                "WHERE quantity < 5\n",
                "GROUP BY p.date\n",
                "HAVING COUNT(tID) > 50\n",
                "'''\n",
                "\n",
                "# Generate the visualization.\n",
                "vis.visualize(query, schema)\n",
                "\n",
                "cur = conn.cursor()\n",
                "res = cur.execute(query)\n",
                "output = res.fetchall()\n",
                "print('Query output:\\n', output)"
            ]
        },
        {
            "cell_type": "markdown",
            "id": "bb7e1804",
            "metadata": {},
            "source": [
                "## Demonstration: query with error"
            ]
        },
        {
            "cell_type": "code",
            "execution_count": 142,
            "id": "1cca419d",
            "metadata": {},
            "outputs": [],
            "source": [
                "query = '''\n",
                "SELECT SUM(p.price)\n",
                "FROM purchase AS p\n",
                "WHERE p.quantity > 10\n",
                "GROUP BY p.date\n",
                "HAVING COUNT(p.pID) < 5\n",
                "'''\n",
                "\n",
                "# Generate the visualization.\n",
                "vis.visualize(query, schema)\n",
                "\n",
                "cur = conn.cursor()\n",
                "res = cur.execute(query)\n",
                "output = res.fetchall()\n",
                "print('Query output:\\n', output)"
            ]
        },
        {
            "cell_type": "markdown",
            "id": "bdd7aa37",
            "metadata": {},
            "source": [
                "## Problem 1"
            ]
        },
        {
            "cell_type": "markdown",
            "id": "3c0fe1c0",
            "metadata": {},
            "source": [
                "Issues:\n",
                "- cName is tagged in red, but the cell isn't highlighted or autoexpanded and there is no tooltip?\n",
                "    - Update: I implemented selection object handling, and now it's not even tagged in red anymore... not better."
            ]
        },
        {
            "cell_type": "code",
            "execution_count": 143,
            "id": "77fb6c08",
            "metadata": {},
            "outputs": [],
            "source": [
                "query = '''\n",
                "SELECT MAX(p.price), MIN(p.price), cName\n",
                "WHERE c.cID = p.cID\n",
                "FROM customer AS c, purchase AS p\n",
                "'''\n",
                "\n",
                "# Generate the visualization.\n",
                "vis.visualize(query, schema)\n",
                "\n",
                "cur = conn.cursor()\n",
                "res = cur.execute(query)\n",
                "output = res.fetchall()\n",
                "print('Query output:\\n', output)"
            ]
        },
        {
            "cell_type": "markdown",
            "id": "a493f17a",
            "metadata": {},
            "source": [
                "## Problem 2"
            ]
        },
        {
            "cell_type": "markdown",
            "id": "beee6c12",
            "metadata": {},
            "source": [
                "Issues here:\n",
                "- Where in the SELECT the error occurs defines whether it is marked as a problem or not?\n",
                "- In- or excluding the `p.` changes whether it is visualized (may be because vis doesn't know which table to attach the error to? But the highlight is still made... huh?)"
            ]
        },
        {
            "cell_type": "code",
            "execution_count": 150,
            "id": "86c1fffc",
            "metadata": {},
            "outputs": [],
            "source": [
                "# Commented versions are different error variations, for debug reasons\n",
                "query = '''\n",
                "SELECT MAX(p.price), date, MIN(p.price), cName\n",
                "FROM customer AS c, purchase AS p\n",
                "WHERE c.cID = p.cID\n",
                "GROUP BY cName, c.city\n",
                "'''\n",
                "\n",
                "# query = '''\n",
                "# SELECT MAX(p.price), MIN(p.price), cName, date\n",
                "# FROM customer AS c, purchase AS p\n",
                "# WHERE c.cID = p.cID\n",
                "# GROUP BY cName, c.city\n",
                "# '''\n",
                "\n",
                "# query = '''\n",
                "# SELECT p.date, MAX(p.price), MIN(p.price), cName\n",
                "# FROM customer AS c, purchase AS p\n",
                "# WHERE c.cID = p.cID\n",
                "# GROUP BY cName, c.city\n",
                "# '''\n",
                "\n",
                "# query = '''\n",
                "# SELECT MAX(p.price), MIN(p.price), cName, p.date\n",
                "# FROM customer AS c, purchase AS p\n",
                "# WHERE c.cID = p.cID\n",
                "# GROUP BY cName, c.city\n",
                "# '''\n",
                "\n",
                "# Generate the visualization.\n",
                "vis.visualize(query, schema)\n",
                "\n",
                "cur = conn.cursor()\n",
                "res = cur.execute(query)\n",
                "output = res.fetchall()\n",
                "print('Query output:\\n', output)"
            ]
        },
        {
            "cell_type": "markdown",
            "id": "29ce9f31",
            "metadata": {},
            "source": [
                "## Problem 3"
            ]
        },
        {
            "cell_type": "markdown",
            "id": "750ea3ab",
            "metadata": {},
            "source": [
                "Issues here:\n",
                "- GROUP BY mistake not highlighting node, also no tooltip (this error will also disappear when the one below is fixed)\n",
                "- WHERE should be late instead of GROUP BY early (@root level)\n",
                "- Side error: referencing error in subquery is not detected? (try making it s.cit) May be related to me breaking selections though"
            ]
        },
        {
            "cell_type": "code",
            "execution_count": 152,
            "id": "3eae90d8",
            "metadata": {},
            "outputs": [],
            "source": [
                "query = '''\n",
                "SELECT MAX(p.price), MIN(p.price), cName\n",
                "FROM customer AS c, purchase AS p\n",
                "GROUP BY cName\n",
                "HAVING p.quantity > 5\n",
                "WHERE c.cID = p.cID\n",
                "AND c.city IN (FROM store AS s\n",
                "               SELECT s.city)\n",
                "'''\n",
                "\n",
                "# Generate the visualization.\n",
                "vis.visualize(query, schema)\n",
                "\n",
                "cur = conn.cursor()\n",
                "res = cur.execute(query)\n",
                "output = res.fetchall()\n",
                "print('Query output:\\n', output)"
            ]
        },
        {
            "cell_type": "markdown",
            "id": "e738591d",
            "metadata": {},
            "source": [
                "## Problem 4"
            ]
        },
        {
            "cell_type": "markdown",
            "id": "401d23a5",
            "metadata": {},
            "source": [
                "Issues:\n",
                "- Tooltip boxes are too small, that's the only issue really."
            ]
        },
        {
            "cell_type": "code",
            "execution_count": 153,
            "id": "5ccbb043",
            "metadata": {},
            "outputs": [],
            "source": [
                "query = '''\n",
                "SELECT s.sName, c.cName, SUM(p.quantity)\n",
                "FROM customer AS c, purchase AS p, store AS s\n",
                "WHERE c.cID = p.cID\n",
                "WHERE s.city = c.city\n",
                "'''\n",
                "\n",
                "# Generate the visualization.\n",
                "vis.visualize(query, schema)\n",
                "\n",
                "cur = conn.cursor()\n",
                "res = cur.execute(query)\n",
                "output = res.fetchall()\n",
                "print('Query output:\\n', output)"
            ]
        },
        {
            "cell_type": "markdown",
            "id": "e86636d4",
            "metadata": {},
            "source": [
                "## Problem 5"
            ]
        },
        {
            "cell_type": "markdown",
            "id": "59138157",
            "metadata": {},
            "source": [
                "Issues:\n",
                "- The WHERE with aggregation triggers changing the entire WHERE to HAVING, which breaks more things.\n",
                "- Late keyword detection is triggered incorrectly (I thought that wasn't even reachable?), why? And also, why does that crash this query?"
            ]
        },
        {
            "cell_type": "code",
            "execution_count": 154,
            "id": "ce9ae849",
            "metadata": {},
            "outputs": [],
            "source": [
                "query = '''\n",
                "SELECT s.sName, c.cName, SUM(p.quantity)\n",
                "FROM customer AS c, purchase AS p, store AS s\n",
                "WHERE c.cID = p.cID\n",
                "AND s.city = c.city\n",
                "AND COUNT(p.pID) < 10\n",
                "GROUP BY c.cName, s.sName\n",
                "HAVING pr.pName LIKE '%a%'\n",
                "AND s.sName IN (FROM store AS s2\n",
                "                SELECT s2.sName\n",
                "                WHERE s2.city = 'Eindhoven'\n",
                "               )\n",
                "'''\n",
                "\n",
                "# Generate the visualization.\n",
                "vis.visualize(query, schema)\n",
                "\n",
                "cur = conn.cursor()\n",
                "res = cur.execute(query)\n",
                "output = res.fetchall()\n",
                "print('Query output:\\n', output)"
            ]
        },
        {
            "cell_type": "markdown",
            "id": "050bb871",
            "metadata": {},
            "source": [
                "## Problem 6"
            ]
        },
        {
            "cell_type": "markdown",
            "id": "69bbf99a",
            "metadata": {},
            "source": [
                "Issues:\n",
                "- How is the parsing crashing?????\n",
                "- Late keyword detection is triggered, and once again crashes the system on insertErrorInfo. How?????"
            ]
        },
        {
            "cell_type": "code",
            "execution_count": 155,
            "id": "daadca6e",
            "metadata": {},
            "outputs": [],
            "source": [
                "query = '''\n",
                "WITH confusion AS (\n",
                "    FROM store AS s1\n",
                "    WHERE s1.sName LIKE '%e%'\n",
                "    AND COUNT(s1.sID) > 2\n",
                "    GROUP BY s1.city\n",
                "    HAVING s1.city IN (FROM customer AS c1\n",
                "                       GROUP BY c1.city\n",
                "                       HAVING COUNT(c1.cID) > 20\n",
                "                       SELECT c1.city\n",
                "                      )\n",
                "    SELECT s1.sName)\n",
                "\n",
                "FROM confusion AS co, purchase AS pur, store as s2\n",
                "WHERE s2.sName = co.sName\n",
                "AND s2.sID = pur.sID\n",
                "SELECT co.sName, pur.date\n",
                "'''\n",
                "\n",
                "# Generate the visualization.\n",
                "vis.visualize(query, schema)\n",
                "\n",
                "cur = conn.cursor()\n",
                "res = cur.execute(query)\n",
                "output = res.fetchall()\n",
                "print('Query output:\\n', output)"
            ]
        },
        {
            "cell_type": "markdown",
            "id": "71c326a0",
            "metadata": {},
            "source": [
                "## Problem 7"
            ]
        },
        {
            "cell_type": "markdown",
            "id": "5d36518d",
            "metadata": {},
            "source": [
                "Issues:\n",
                "- Double HAVING issue is not being shown at all.\n",
                "- Because of it being double HAVING, the `cName LIKE '%a%'` is not visualized?\n",
                "- The `cName LIKE '%a%'`, when visualized, is shown as a WHERE component (due to it not containing aggregation)."
            ]
        },
        {
            "cell_type": "code",
            "execution_count": 157,
            "id": "bde62458",
            "metadata": {},
            "outputs": [],
            "source": [
                "query = '''\n",
                "SELECT MAX(p.price), MIN(p.price)\n",
                "FROM customer AS c, purchase AS p\n",
                "WHERE c.cID = p.cID\n",
                "GROUP BY c.city\n",
                "HAVING AVG(p.quantity) > 5\n",
                "HAVING c.cName LIKE '%a%'\n",
                "'''\n",
                "\n",
                "# Generate the visualization.\n",
                "vis.visualize(query, schema)\n",
                "\n",
                "cur = conn.cursor()\n",
                "res = cur.execute(query)\n",
                "output = res.fetchall()\n",
                "print('Query output:\\n', output)"
            ]
        },
        {
            "cell_type": "markdown",
            "id": "1037622c",
            "metadata": {},
            "source": [
                "## Problem 8"
            ]
        },
        {
            "cell_type": "markdown",
            "id": "2841f0d8",
            "metadata": {},
            "source": [
                "Issues: no issues, working as intended"
            ]
        },
        {
            "cell_type": "code",
            "execution_count": 158,
            "id": "a477e585",
            "metadata": {},
            "outputs": [],
            "source": [
                "query = '''\n",
                "SELECT MAX(p.price), MIN(p.price), p.date\n",
                "FROM purchase AS p\n",
                "'''\n",
                "\n",
                "# Generate the visualization.\n",
                "vis.visualize(query, schema)\n",
                "\n",
                "cur = conn.cursor()\n",
                "res = cur.execute(query)\n",
                "output = res.fetchall()\n",
                "print('Query output:\\n', output)"
            ]
        },
        {
            "cell_type": "markdown",
            "id": "5efc5070",
            "metadata": {},
            "source": [
                "## Problem 9"
            ]
        },
        {
            "cell_type": "markdown",
            "id": "4f144414",
            "metadata": {},
            "source": [
                "Issues:\n",
                "- This query is a bit screwed up. Need to change the query itself, because this doesn't make sense. Check Onedrive spreadsheet for what should be in here."
            ]
        },
        {
            "cell_type": "code",
            "execution_count": 162,
            "id": "b42f0be4",
            "metadata": {},
            "outputs": [],
            "source": [
                "query = '''\n",
                "SELECT c.cName, MAX(p.price)\n",
                "FROM customer AS c, purchase AS p\n",
                "WHERE c.cName IN (GROUP BY p2.cName\n",
                "                  SELECT p2.cName\n",
                "                  FROM purchase AS p2\n",
                "                  WHERE p2.cName LIKE '%a%'\n",
                "                  WHERE COUNT(p2.cID) < 5\n",
                "                  HAVING SUM(p2.price) > 20\n",
                "                 )\n",
                "AND c.cID = p.cID\n",
                "GROUP BY c.cName\n",
                "'''\n",
                "\n",
                "# Generate the visualization.\n",
                "vis.visualize(query, schema)\n",
                "\n",
                "cur = conn.cursor()\n",
                "res = cur.execute(query)\n",
                "output = res.fetchall()\n",
                "print('Query output:\\n', output)"
            ]
        },
        {
            "cell_type": "markdown",
            "id": "28ef5889",
            "metadata": {},
            "source": [
                "## Problem 10"
            ]
        },
        {
            "cell_type": "markdown",
            "id": "39def32f",
            "metadata": {},
            "source": [
                "Issues:\n",
                "- p.date is made orange as if it is being selected... it is not. That is the entire problem for incorr grouping.\n",
                "- (`c.`)`cName` is not being marked as insufficient grouping.\n",
                "- s.sName is not being marked as insufficient grouping."
            ]
        },
        {
            "cell_type": "code",
            "execution_count": 165,
            "id": "684e9ffd",
            "metadata": {},
            "outputs": [],
            "source": [
                "query = '''\n",
                "SELECT MAX(p.price) as highest_purchase, MIN(p.price), cName, s.sName, street\n",
                "FROM customer AS c, purchase AS p, store AS s\n",
                "WHERE c.cID = p.cID\n",
                "AND s.sID = p.sID\n",
                "GROUP BY p.date\n",
                "'''\n",
                "\n",
                "# Generate the visualization.\n",
                "vis.visualize(query, schema)\n",
                "\n",
                "cur = conn.cursor()\n",
                "res = cur.execute(query)\n",
                "output = res.fetchall()\n",
                "print('Query output:\\n', output)"
            ]
        }
    ],
    "metadata": {
        "kernelspec": {
            "display_name": "Python 3 (ipykernel)",
            "language": "python",
            "name": "python3"
        },
        "language_info": {
            "codemirror_mode": {
                "name": "ipython",
                "version": 3
            },
            "file_extension": ".py",
            "mimetype": "text/x-python",
            "name": "python",
            "nbconvert_exporter": "python",
            "pygments_lexer": "ipython3",
            "version": "3.8.10"
        }
    },
    "nbformat": 4,
    "nbformat_minor": 5
}