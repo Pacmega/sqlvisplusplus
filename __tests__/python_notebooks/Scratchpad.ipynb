{
 "cells": [
  {
   "cell_type": "code",
   "execution_count": null,
   "id": "17302a30",
   "metadata": {},
   "outputs": [],
   "source": [
    "from sqlvis import vis\n",
    "import sqlite3\n",
    "\n",
    "conn = sqlite3.connect('../data/shopping.db')"
   ]
  },
  {
   "cell_type": "code",
   "execution_count": null,
   "id": "36123c9c",
   "metadata": {},
   "outputs": [],
   "source": [
    "# Retrieve the schema from the db connection\n",
    "schema = vis.schema_from_conn(conn)\n",
    "schema"
   ]
  },
  {
   "cell_type": "code",
   "execution_count": null,
   "id": "c430006c",
   "metadata": {},
   "outputs": [],
   "source": [
    "query = '''\n",
    "SELECT MAX(p.price) as highest_purchase, MIN(p.price)\n",
    "GROUP BY c.cID\n",
    "WHERE c.cID = p.cID\n",
    "FROM customer AS c, purchase AS p\n",
    "'''\n",
    "\n",
    "# Generate the visualization.\n",
    "a = vis.only_build_ast(query, schema)\n",
    "print(type(a))\n",
    "print(a)"
   ]
  },
  {
   "cell_type": "code",
   "execution_count": null,
   "id": "6b0feb2f",
   "metadata": {
    "tags": [
     "raises-exception"
    ]
   },
   "outputs": [],
   "source": [
    "query = '''\n",
    "SELECT MAX(p.price) as highest_purchase, MIN(p.price)\n",
    "GROUP BY c.cID\n",
    "WHERE c.cID = p.cID\n",
    "FROM customer AS c, purchase AS p\n",
    "'''\n",
    "\n",
    "# Generate the visualization.\n",
    "vis.visualize(query, schema)\n",
    "\n",
    "cur = conn.cursor()\n",
    "res = cur.execute(query)\n",
    "output = res.fetchall()\n",
    "print('Query output:\\n', output)"
   ]
  },
  {
   "cell_type": "code",
   "execution_count": null,
   "id": "7a2b06c1",
   "metadata": {},
   "outputs": [],
   "source": [
    "query = '''\n",
    "SELECT random_thing\n",
    "FROM store\n",
    "WHERE store.price = product.street\n",
    "'''\n",
    "\n",
    "# Generate the visualization.\n",
    "vis.visualize(query, schema)\n",
    "\n",
    "cur = conn.cursor()\n",
    "res = cur.execute(query)\n",
    "output = res.fetchall()\n",
    "print('Query output:\\n', output)"
   ]
  },
  {
   "cell_type": "code",
   "execution_count": null,
   "id": "508ffcda",
   "metadata": {
    "tags": [
     "raises-exception"
    ]
   },
   "outputs": [],
   "source": [
    "query = '''\n",
    "SELECT c.cName, COUNT(*)\n",
    "FROM customer AS c, purchase AS p\n",
    "WHERE c.cID = p.cID\n",
    "'''\n",
    "\n",
    "# Generate the visualization.\n",
    "vis.visualize(query, schema)\n",
    "\n",
    "cur = conn.cursor()\n",
    "res = cur.execute(query)\n",
    "output = res.fetchall()\n",
    "print('Query output:\\n', output)"
   ]
  },
  {
   "cell_type": "code",
   "execution_count": null,
   "id": "6f987aa3",
   "metadata": {},
   "outputs": [],
   "source": []
  },
  {
   "cell_type": "code",
   "execution_count": null,
   "id": "00568af4",
   "metadata": {},
   "outputs": [],
   "source": []
  }
 ],
 "metadata": {
  "celltoolbar": "Tags",
  "kernelspec": {
   "display_name": "Python 3 (ipykernel)",
   "language": "python",
   "name": "python3"
  },
  "language_info": {
   "codemirror_mode": {
    "name": "ipython",
    "version": 3
   },
   "file_extension": ".py",
   "mimetype": "text/x-python",
   "name": "python",
   "nbconvert_exporter": "python",
   "pygments_lexer": "ipython3",
   "version": "3.8.10"
  }
 },
 "nbformat": 4,
 "nbformat_minor": 5
}
