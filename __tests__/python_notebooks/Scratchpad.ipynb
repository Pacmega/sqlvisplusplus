{
 "cells": [
  {
   "cell_type": "code",
   "execution_count": 6,
   "id": "17302a30",
   "metadata": {},
   "outputs": [],
   "source": [
    "from sqlvis import vis\n",
    "import sqlite3\n",
    "\n",
    "conn = sqlite3.connect('../../data/shopping.db')"
   ]
  },
  {
   "cell_type": "code",
   "execution_count": 7,
   "id": "36123c9c",
   "metadata": {},
   "outputs": [],
   "source": [
    "# Retrieve the schema from the db connection\n",
    "schema = vis.schema_from_conn(conn)\n",
    "schema"
   ]
  },
  {
   "cell_type": "code",
   "execution_count": 13,
   "id": "63e89b89",
   "metadata": {},
   "outputs": [],
   "source": [
    "query = '''\n",
    "SELECT s.sName, c.cName, SUM(p.quantity)\n",
    "FROM customer AS c, purchase AS p, store AS s\n",
    "WHERE c.cID = p.cID\n",
    "AND s.city = c.city\n",
    "GROUP BY c.cName, s.sName\n",
    "HAVING s.sName IN (FROM store AS s2\n",
    "                   SELECT s2.sName\n",
    "                   WHERE s2.city = 'Eindhoven'\n",
    "                   GROUP BY s2.sID\n",
    "                  )\n",
    "AND COUNT(p.pID) < 10\n",
    "'''\n",
    "\n",
    "# Generate the visualization.\n",
    "vis.visualize(query, schema)\n",
    "\n",
    "cur = conn.cursor()\n",
    "res = cur.execute(query)\n",
    "output = res.fetchall()\n",
    "print('Query output:\\n', output)"
   ]
  },
  {
   "cell_type": "code",
   "execution_count": 3,
   "id": "c430006c",
   "metadata": {},
   "outputs": [],
   "source": [
    "# ===========================================\n",
    "#   THIS CRASHES AND I DO NOT YET KNOW WHY\n",
    "# ===========================================\n",
    "\n",
    "query = '''\n",
    "SELECT c.cName\n",
    "FROM customer AS c\n",
    "WHERE (SELECT SUM(p.quantity)\n",
    "       FROM purchase AS p\n",
    "       WHERE p.cID = c.cID)\n",
    "      = (SELECT MAX(total_quantity)\n",
    "         FROM (SELECT SUM(p2.quantity) AS total_quantity\n",
    "               FROM purchase AS p2\n",
    "               GROUP BY p2.cID) AS subquery)\n",
    "'''\n",
    "\n",
    "# Generate the visualization.\n",
    "vis.visualize(query, schema)\n",
    "\n",
    "cur = conn.cursor()\n",
    "res = cur.execute(query)\n",
    "output = res.fetchall()\n",
    "print('Query output:\\n', output)"
   ]
  },
  {
   "cell_type": "code",
   "execution_count": 19,
   "id": "6b0feb2f",
   "metadata": {
    "tags": [
     "raises-exception"
    ]
   },
   "outputs": [],
   "source": [
    "query = '''\n",
    "SELECT MAX(p.price) as highest_purchase, MIN(p.price)\n",
    "GROUP BY c.cID\n",
    "WHERE c.cID = p.cID\n",
    "FROM customer AS c, purchase AS p\n",
    "'''\n",
    "\n",
    "# Generate the visualization.\n",
    "vis.visualize(query, schema)\n",
    "\n",
    "cur = conn.cursor()\n",
    "res = cur.execute(query)\n",
    "output = res.fetchall()\n",
    "print('Query output:\\n', output)"
   ]
  },
  {
   "cell_type": "code",
   "execution_count": 20,
   "id": "7a2b06c1",
   "metadata": {},
   "outputs": [],
   "source": [
    "query = '''\n",
    "SELECT GROUP BY store.street\n",
    "FROM store, product\n",
    "WHERE store.price = product.street\n",
    "'''\n",
    "\n",
    "# Generate the visualization.\n",
    "vis.visualize(query, schema)\n",
    "\n",
    "cur = conn.cursor()\n",
    "res = cur.execute(query)\n",
    "output = res.fetchall()\n",
    "print('Query output:\\n', output)"
   ]
  },
  {
   "cell_type": "code",
   "execution_count": 21,
   "id": "508ffcda",
   "metadata": {
    "tags": [
     "raises-exception"
    ]
   },
   "outputs": [],
   "source": [
    "query = '''\n",
    "SELECT c.cName, COUNT(*)\n",
    "FROM customer AS c, purchase AS p\n",
    "WHERE c.cID = p.cID\n",
    "'''\n",
    "\n",
    "# Generate the visualization.\n",
    "vis.visualize(query, schema)\n",
    "\n",
    "cur = conn.cursor()\n",
    "res = cur.execute(query)\n",
    "output = res.fetchall()\n",
    "print('Query output:\\n', output)"
   ]
  },
  {
   "cell_type": "code",
   "execution_count": 23,
   "id": "6f987aa3",
   "metadata": {},
   "outputs": [],
   "source": [
    "query = '''\n",
    "SELECT SUM(p.price), p.date\n",
    "FROM purchase AS p\n",
    "WHERE p.price > 2\n",
    "GROUP BY p.date\n",
    "HAVING SUM(p.price) > 4\n",
    "'''\n",
    "\n",
    "# Generate the visualization.\n",
    "vis.visualize(query, schema)\n",
    "\n",
    "cur = conn.cursor()\n",
    "res = cur.execute(query)\n",
    "output = res.fetchall()\n",
    "print('Query output:\\n', output)"
   ]
  },
  {
   "cell_type": "code",
   "execution_count": null,
   "id": "00568af4",
   "metadata": {},
   "outputs": [],
   "source": []
  }
 ],
 "metadata": {
  "celltoolbar": "Tags",
  "kernelspec": {
   "display_name": "Python 3",
   "language": "python",
   "name": "python3"
  },
  "language_info": {
   "codemirror_mode": {
    "name": "ipython",
    "version": 3
   },
   "file_extension": ".py",
   "mimetype": "text/x-python",
   "name": "python",
   "nbconvert_exporter": "python",
   "pygments_lexer": "ipython3",
   "version": "3.6.15"
  }
 },
 "nbformat": 4,
 "nbformat_minor": 5
}
