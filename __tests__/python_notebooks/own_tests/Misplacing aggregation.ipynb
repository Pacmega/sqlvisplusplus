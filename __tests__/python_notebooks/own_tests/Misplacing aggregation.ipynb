{
 "cells": [
  {
   "cell_type": "markdown",
   "id": "60821280",
   "metadata": {},
   "source": [
    "Current plan:\n",
    "- Spam aggregation error parsing tests\n",
    "- If they can't be parsed, they are usable as tests to see if my approach will make them parseable\n",
    "- If they can, I'll have to make error visualizations for them\n",
    "- Actually I'll have to make error visualizations for them anyway"
   ]
  },
  {
   "cell_type": "code",
   "execution_count": null,
   "id": "96429e72",
   "metadata": {},
   "outputs": [],
   "source": [
    "from sqlvis import vis\n",
    "import sqlite3\n",
    "\n",
    "conn = sqlite3.connect('../../data/shopping.db')"
   ]
  },
  {
   "cell_type": "code",
   "execution_count": null,
   "id": "e480fe10",
   "metadata": {},
   "outputs": [],
   "source": [
    "# Retrieve the schema from the db connection\n",
    "schema = vis.schema_from_conn(conn)"
   ]
  },
  {
   "cell_type": "code",
   "execution_count": null,
   "id": "06ccf2cf",
   "metadata": {},
   "outputs": [],
   "source": [
    "schema"
   ]
  },
  {
   "cell_type": "markdown",
   "id": "2f6f4f87",
   "metadata": {},
   "source": [
    "## This notebook is mainly me testing every possible way to misplace aggregation to see if anything can still be parsed.\n",
    "\n",
    "## Note: aggregation on the left side of the WHERE is caught with a pop-up, but on the right side isn't."
   ]
  },
  {
   "cell_type": "code",
   "execution_count": null,
   "id": "59aeebcb",
   "metadata": {},
   "outputs": [],
   "source": [
    "query = '''\n",
    "SELECT c.cName, p.price\n",
    "FROM customer AS c, purchase AS p\n",
    "WHERE c.cID = SUM(p.cID)\n",
    "GROUP BY c.cName\n",
    "'''\n",
    "\n",
    "# Generate the visualization.\n",
    "vis.visualize(query, schema)\n",
    "\n",
    "cur = conn.cursor()\n",
    "res = cur.execute(query)\n",
    "output = res.fetchall()\n",
    "print('Query output:\\n', output)"
   ]
  },
  {
   "cell_type": "code",
   "execution_count": null,
   "id": "a739d9f4",
   "metadata": {},
   "outputs": [],
   "source": [
    "query = '''\n",
    "SELECT c.cName, p.price\n",
    "FROM customer AS c, purchase AS p\n",
    "WHERE c.cID = p.cID\n",
    "AND p.price > AVG(p.price)\n",
    "GROUP BY c.cName\n",
    "'''\n",
    "\n",
    "# Generate the visualization.\n",
    "vis.visualize(query, schema)\n",
    "\n",
    "cur = conn.cursor()\n",
    "res = cur.execute(query)\n",
    "output = res.fetchall()\n",
    "print('Query output:\\n', output)"
   ]
  },
  {
   "cell_type": "markdown",
   "id": "0b1aea3d",
   "metadata": {},
   "source": [
    "The one below is actually valid! It is just... slightly odd. Why is the subquery titled 'Or'?"
   ]
  },
  {
   "cell_type": "code",
   "execution_count": null,
   "id": "51ea94f2",
   "metadata": {},
   "outputs": [],
   "source": [
    "query = '''\n",
    "SELECT c.cName, SUM(p.price)\n",
    "FROM customer AS c, purchase AS p\n",
    "WHERE c.cID = p.cID\n",
    "AND p.price > (SELECT AVG(p.price)\n",
    "               FROM purchase AS p)\n",
    "GROUP BY c.cName\n",
    "'''\n",
    "\n",
    "# Generate the visualization.\n",
    "vis.visualize(query, schema)\n",
    "\n",
    "cur = conn.cursor()\n",
    "res = cur.execute(query)\n",
    "output = res.fetchall()\n",
    "print('Query output:\\n', output)"
   ]
  },
  {
   "cell_type": "markdown",
   "id": "0c827c21",
   "metadata": {},
   "source": [
    "One is right, one is not. Check that both are handled properly."
   ]
  },
  {
   "cell_type": "code",
   "execution_count": null,
   "id": "9a13c7d0",
   "metadata": {},
   "outputs": [],
   "source": [
    "query = '''\n",
    "SELECT c.cName, SUM(p.price)\n",
    "FROM customer AS c, purchase AS p\n",
    "WHERE c.cID = AVG(p.cID)\n",
    "GROUP BY c.cName\n",
    "HAVING p.price > AVG(p.price)\n",
    "'''\n",
    "\n",
    "# Generate the visualization.\n",
    "vis.visualize(query, schema)\n",
    "\n",
    "cur = conn.cursor()\n",
    "res = cur.execute(query)\n",
    "output = res.fetchall()\n",
    "print('Query output:\\n', output)"
   ]
  },
  {
   "cell_type": "markdown",
   "id": "9677b194",
   "metadata": {},
   "source": [
    "An interesting conclusion here. Can it be run? Absolutely not. Can our parser still parse it? Yes, though in its original form it behaves strangely. Disappearing links, disappearing column markings, an erroneous 'Or' title for a subquery... Curious behavior indeed. "
   ]
  },
  {
   "cell_type": "markdown",
   "id": "cf098f0b",
   "metadata": {},
   "source": [
    "In fact... That 'Or' subgraph may be an SQLVis bug possibly?"
   ]
  }
 ],
 "metadata": {
  "kernelspec": {
   "display_name": "Python 3 (ipykernel)",
   "language": "python",
   "name": "python3"
  },
  "language_info": {
   "codemirror_mode": {
    "name": "ipython",
    "version": 3
   },
   "file_extension": ".py",
   "mimetype": "text/x-python",
   "name": "python",
   "nbconvert_exporter": "python",
   "pygments_lexer": "ipython3",
   "version": "3.8.10"
  }
 },
 "nbformat": 4,
 "nbformat_minor": 5
}
