{
 "cells": [
  {
   "cell_type": "code",
   "execution_count": null,
   "id": "96429e72",
   "metadata": {},
   "outputs": [],
   "source": [
    "from sqlvis import vis\n",
    "import sqlite3\n",
    "\n",
    "conn = sqlite3.connect('../../data/shopping.db')"
   ]
  },
  {
   "cell_type": "code",
   "execution_count": null,
   "id": "e480fe10",
   "metadata": {},
   "outputs": [],
   "source": [
    "# Retrieve the schema from the db connection\n",
    "schema = vis.schema_from_conn(conn)"
   ]
  },
  {
   "cell_type": "code",
   "execution_count": null,
   "id": "06ccf2cf",
   "metadata": {},
   "outputs": [],
   "source": [
    "schema"
   ]
  },
  {
   "cell_type": "markdown",
   "id": "2f6f4f87",
   "metadata": {},
   "source": [
    "## This notebook is mainly me testing every possible way to misplace aggregation to see if anything can still be parsed."
   ]
  },
  {
   "cell_type": "code",
   "execution_count": null,
   "id": "59aeebcb",
   "metadata": {},
   "outputs": [],
   "source": [
    "query = '''\n",
    "GROUP BY c.cName\n",
    "SELECT c.cName, MAX(p.price)\n",
    "FROM customer AS c, purchase AS p\n",
    "WHERE c.cID = SUM(p.cID)\n",
    "'''\n",
    "\n",
    "# Generate the visualization.\n",
    "vis.visualize(query, schema)\n",
    "\n",
    "cur = conn.cursor()\n",
    "res = cur.execute(query)\n",
    "output = res.fetchall()\n",
    "print('Query output:\\n', output)"
   ]
  },
  {
   "cell_type": "code",
   "execution_count": null,
   "id": "9a13c7d0",
   "metadata": {},
   "outputs": [],
   "source": [
    "query = '''\n",
    "SELECT c.cName, MAX(p.price)\n",
    "GROUP BY c.cName\n",
    "FROM customer AS c, purchase AS p\n",
    "WHERE c.cID = SUM(p.cID)\n",
    "'''\n",
    "\n",
    "# Generate the visualization.\n",
    "vis.visualize(query, schema)\n",
    "\n",
    "cur = conn.cursor()\n",
    "res = cur.execute(query)\n",
    "output = res.fetchall()\n",
    "print('Query output:\\n', output)"
   ]
  },
  {
   "cell_type": "code",
   "execution_count": null,
   "id": "b453a0c8",
   "metadata": {},
   "outputs": [],
   "source": [
    "query = '''\n",
    "SELECT GROUP BY c.cName, MAX(p.price)\n",
    "FROM customer AS c, purchase AS p\n",
    "WHERE c.cID = SUM(p.cID)\n",
    "'''\n",
    "\n",
    "# Generate the visualization.\n",
    "vis.visualize(query, schema)\n",
    "\n",
    "cur = conn.cursor()\n",
    "res = cur.execute(query)\n",
    "output = res.fetchall()\n",
    "print('Query output:\\n', output)"
   ]
  },
  {
   "cell_type": "code",
   "execution_count": null,
   "id": "3abdf771",
   "metadata": {},
   "outputs": [],
   "source": [
    "query = '''\n",
    "SELECT c.cName, MAX(p.price)\n",
    "FROM customer AS c, purchase AS p\n",
    "GROUP BY c.cName\n",
    "WHERE c.cID = SUM(p.cID)\n",
    "'''\n",
    "\n",
    "# Generate the visualization.\n",
    "vis.visualize(query, schema)\n",
    "\n",
    "cur = conn.cursor()\n",
    "res = cur.execute(query)\n",
    "output = res.fetchall()\n",
    "print('Query output:\\n', output)"
   ]
  },
  {
   "cell_type": "code",
   "execution_count": null,
   "id": "c645cf48",
   "metadata": {},
   "outputs": [],
   "source": [
    "query = '''\n",
    "SELECT c.cName, MAX(p.price)\n",
    "FROM customer AS c, purchase AS p\n",
    "WHERE c.cID = p.cID\n",
    "GROUP BY c.cName\n",
    "WHERE c.cName LIKE '%a%';\n",
    "'''\n",
    "\n",
    "# Generate the visualization.\n",
    "vis.visualize(query, schema)\n",
    "\n",
    "cur = conn.cursor()\n",
    "res = cur.execute(query)\n",
    "output = res.fetchall()\n",
    "print('Query output:\\n', output)"
   ]
  },
  {
   "cell_type": "code",
   "execution_count": null,
   "id": "160a1681",
   "metadata": {},
   "outputs": [],
   "source": [
    "query = '''\n",
    "SELECT c.cName, MAX(p.price)\n",
    "FROM customer AS c, purchase AS p\n",
    "WHERE c.cID IN (GROUP BY p2.cID\n",
    "                SELECT p2.cID\n",
    "                FROM purchase AS p2\n",
    "                HAVING SUM(p2.price) > 20)\n",
    "AND c.cID = p.cID\n",
    "GROUP BY c.cName;\n",
    "'''\n",
    "\n",
    "# Generate the visualization.\n",
    "vis.visualize(query, schema)\n",
    "\n",
    "cur = conn.cursor()\n",
    "res = cur.execute(query)\n",
    "output = res.fetchall()\n",
    "print('Query output:\\n', output)"
   ]
  },
  {
   "cell_type": "code",
   "execution_count": null,
   "id": "efaec669",
   "metadata": {},
   "outputs": [],
   "source": [
    "query = '''\n",
    "SELECT c.cName, MAX(p.price)\n",
    "FROM customer AS c, purchase AS p\n",
    "WHERE c.cID IN (SELECT p2.cID\n",
    "                GROUP BY p2.cID\n",
    "                FROM purchase AS p2\n",
    "                HAVING SUM(p2.price) > 20)\n",
    "AND c.cID = p.cID\n",
    "GROUP BY c.cName;\n",
    "'''\n",
    "\n",
    "# Generate the visualization.\n",
    "vis.visualize(query, schema)\n",
    "\n",
    "cur = conn.cursor()\n",
    "res = cur.execute(query)\n",
    "output = res.fetchall()\n",
    "print('Query output:\\n', output)"
   ]
  },
  {
   "cell_type": "markdown",
   "id": "9677b194",
   "metadata": {},
   "source": [
    "Needless to say, the conclusion is a resounding 'no'."
   ]
  }
 ],
 "metadata": {
  "kernelspec": {
   "display_name": "Python 3 (ipykernel)",
   "language": "python",
   "name": "python3"
  },
  "language_info": {
   "codemirror_mode": {
    "name": "ipython",
    "version": 3
   },
   "file_extension": ".py",
   "mimetype": "text/x-python",
   "name": "python",
   "nbconvert_exporter": "python",
   "pygments_lexer": "ipython3",
   "version": "3.8.10"
  }
 },
 "nbformat": 4,
 "nbformat_minor": 5
}
