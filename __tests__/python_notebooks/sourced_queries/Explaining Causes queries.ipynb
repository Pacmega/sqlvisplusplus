{
 "cells": [
  {
   "cell_type": "code",
   "execution_count": null,
   "id": "e121709c",
   "metadata": {},
   "outputs": [],
   "source": [
    "from sqlvis import vis\n",
    "import sqlite3\n",
    "\n",
    "conn = sqlite3.connect('../../../data/ExplainingCausesBehindSQLErrorsDB.db')"
   ]
  },
  {
   "cell_type": "code",
   "execution_count": null,
   "id": "96788f37",
   "metadata": {},
   "outputs": [],
   "source": [
    "# Retrieve the shema from the db connection\n",
    "schema = vis.schema_from_conn(conn)"
   ]
  },
  {
   "cell_type": "code",
   "execution_count": null,
   "id": "134ba36b",
   "metadata": {},
   "outputs": [],
   "source": [
    "schema"
   ]
  },
  {
   "cell_type": "markdown",
   "id": "657ef29c",
   "metadata": {},
   "source": [
    "**Listing 1. A multi-table query with an explicit join condition**"
   ]
  },
  {
   "cell_type": "code",
   "execution_count": null,
   "id": "7faa6824",
   "metadata": {},
   "outputs": [],
   "source": [
    "query = '''\n",
    "SELECT c.name\n",
    "FROM customer c, ordered o\n",
    "WHERE c.customerid = o.customerid;\n",
    "'''\n",
    "\n",
    "# Generate the visualization.\n",
    "vis.visualize(query, schema)\n",
    "\n",
    "cur = conn.cursor()\n",
    "res = cur.execute(query)\n",
    "output = res.fetchall()\n",
    "print('Query output:\\n', output)"
   ]
  },
  {
   "cell_type": "markdown",
   "id": "e52ba295",
   "metadata": {},
   "source": [
    "**Listing 2. ANSI SQL-92 join in a multi-table query**"
   ]
  },
  {
   "cell_type": "code",
   "execution_count": null,
   "id": "97b2d798",
   "metadata": {},
   "outputs": [],
   "source": [
    "query = '''\n",
    "SELECT c.name\n",
    "FROM customer c\n",
    "JOIN ordered o\n",
    "ON (c.customerid = o.customerid);\n",
    "'''\n",
    "\n",
    "# Generate the visualization.\n",
    "vis.visualize(query, schema)\n",
    "\n",
    "cur = conn.cursor()\n",
    "res = cur.execute(query)\n",
    "output = res.fetchall()\n",
    "print('Query output:\\n', output)"
   ]
  },
  {
   "cell_type": "markdown",
   "id": "db62a65d",
   "metadata": {},
   "source": [
    "**Listing 3. A query with equal subqueries**"
   ]
  },
  {
   "cell_type": "code",
   "execution_count": null,
   "id": "b6cfe957",
   "metadata": {},
   "outputs": [],
   "source": [
    "query = '''\n",
    "SELECT p.productid, p.description\n",
    "FROM product p\n",
    "WHERE NOT EXISTS\n",
    "    (SELECT *\n",
    "    FROM ordered o\n",
    "    WHERE p.productid = o.productid)\n",
    "AND EXISTS\n",
    "    (SELECT *\n",
    "    FROM supplies s\n",
    "    WHERE p.productid = s.productid);\n",
    "'''\n",
    "\n",
    "# Generate the visualization.\n",
    "vis.visualize(query, schema)\n",
    "\n",
    "cur = conn.cursor()\n",
    "res = cur.execute(query)\n",
    "output = res.fetchall()\n",
    "print('Query output:\\n', output)"
   ]
  },
  {
   "cell_type": "markdown",
   "id": "8d452394",
   "metadata": {},
   "source": [
    "**Listing 4. A query with nested subqueries**"
   ]
  },
  {
   "cell_type": "code",
   "execution_count": null,
   "id": "503461e1",
   "metadata": {},
   "outputs": [],
   "source": [
    "query = '''\n",
    "SELECT p.productid, p.description\n",
    "FROM product p\n",
    "WHERE NOT EXISTS\n",
    "    (SELECT *\n",
    "    FROM ordered o\n",
    "    WHERE p.productid = o.productid\n",
    "    AND EXISTS\n",
    "        (SELECT *\n",
    "        FROM supplies s\n",
    "        WHERE p.productid = s.productid)\n",
    "    );\n",
    "'''\n",
    "\n",
    "# Generate the visualization.\n",
    "vis.visualize(query, schema)\n",
    "\n",
    "cur = conn.cursor()\n",
    "res = cur.execute(query)\n",
    "output = res.fetchall()\n",
    "print('Query output:\\n', output)"
   ]
  },
  {
   "cell_type": "markdown",
   "id": "10deda57",
   "metadata": {},
   "source": [
    "**Listing 5. A typical, simple self-join**"
   ]
  },
  {
   "cell_type": "code",
   "execution_count": null,
   "id": "ec45b5d7",
   "metadata": {},
   "outputs": [],
   "source": [
    "query = '''\n",
    "SELECT c1.name\n",
    "FROM customer c1\n",
    "JOIN customer c2\n",
    "ON (c1.address = c2.address)\n",
    "WHERE c1.customerid <> 47\n",
    "AND c2.customerid = 47;\n",
    "'''\n",
    "\n",
    "# Generate the visualization.\n",
    "vis.visualize(query, schema)\n",
    "\n",
    "cur = conn.cursor()\n",
    "res = cur.execute(query)\n",
    "output = res.fetchall()\n",
    "print('Query output:\\n', output)"
   ]
  },
  {
   "cell_type": "markdown",
   "id": "37924340",
   "metadata": {},
   "source": [
    "**Listing 6. A self-join with an uncorrelated subquery formed by evaluating\n",
    "an aggregate function against a column value**"
   ]
  },
  {
   "cell_type": "code",
   "execution_count": null,
   "id": "cd3a2d30",
   "metadata": {},
   "outputs": [],
   "source": [
    "query = '''\n",
    "SELECT productid, onhand\n",
    "FROM product\n",
    "WHERE description = ’used’\n",
    "AND onhand =\n",
    "    (SELECT MAX(onhand)\n",
    "    FROM product\n",
    "    WHERE description = ’used’);\n",
    "'''\n",
    "\n",
    "# Generate the visualization.\n",
    "vis.visualize(query, schema)\n",
    "\n",
    "cur = conn.cursor()\n",
    "res = cur.execute(query)\n",
    "output = res.fetchall()\n",
    "print('Query output:\\n', output)"
   ]
  },
  {
   "cell_type": "markdown",
   "id": "b44d4143",
   "metadata": {},
   "source": [
    "**Listing 7. An example of a query with multiple source tables**"
   ]
  },
  {
   "cell_type": "code",
   "execution_count": null,
   "id": "c25392a7",
   "metadata": {},
   "outputs": [],
   "source": [
    "query = '''\n",
    "SELECT o.productid, c.name, c.address\n",
    "FROM ordered o\n",
    "JOIN customer c\n",
    "ON (o.customerid = c.customerid);\n",
    "'''\n",
    "\n",
    "# Generate the visualization.\n",
    "vis.visualize(query, schema)\n",
    "\n",
    "cur = conn.cursor()\n",
    "res = cur.execute(query)\n",
    "output = res.fetchall()\n",
    "print('Query output:\\n', output)"
   ]
  },
  {
   "cell_type": "markdown",
   "id": "fa257337",
   "metadata": {},
   "source": [
    "**Listing 8. A query with an aggregate function and grouping**"
   ]
  },
  {
   "cell_type": "code",
   "execution_count": null,
   "id": "fe1264d3",
   "metadata": {},
   "outputs": [],
   "source": [
    "query = '''\n",
    "SELECT productid, SUM(quantity)\n",
    "FROM ordered\n",
    "GROUP BY productid;\n",
    "'''\n",
    "\n",
    "# Generate the visualization.\n",
    "vis.visualize(query, schema)\n",
    "\n",
    "cur = conn.cursor()\n",
    "res = cur.execute(query)\n",
    "output = res.fetchall()\n",
    "print('Query output:\\n', output)"
   ]
  },
  {
   "cell_type": "markdown",
   "id": "5975ff17",
   "metadata": {},
   "source": [
    "**Listing 9. A query with aggregate functions, parameter distinct, multiple\n",
    "source tables and grouping**"
   ]
  },
  {
   "cell_type": "code",
   "execution_count": null,
   "id": "2180f473",
   "metadata": {},
   "outputs": [],
   "source": [
    "query = '''\n",
    "SELECT p.productid\n",
    "       , SUM(o.quantity)\n",
    "       , COUNT(DISTINCT o.customerid)\n",
    "FROM product p, ordered o\n",
    "WHERE p.productid = o.productid\n",
    "GROUP BY p.productid;\n",
    "'''\n",
    "\n",
    "# Generate the visualization.\n",
    "vis.visualize(query, schema)\n",
    "\n",
    "cur = conn.cursor()\n",
    "res = cur.execute(query)\n",
    "output = res.fetchall()\n",
    "print('Query output:\\n', output)"
   ]
  }
 ],
 "metadata": {
  "kernelspec": {
   "display_name": "Python 3 (ipykernel)",
   "language": "python",
   "name": "python3"
  },
  "language_info": {
   "codemirror_mode": {
    "name": "ipython",
    "version": 3
   },
   "file_extension": ".py",
   "mimetype": "text/x-python",
   "name": "python",
   "nbconvert_exporter": "python",
   "pygments_lexer": "ipython3",
   "version": "3.8.10"
  }
 },
 "nbformat": 4,
 "nbformat_minor": 5
}
