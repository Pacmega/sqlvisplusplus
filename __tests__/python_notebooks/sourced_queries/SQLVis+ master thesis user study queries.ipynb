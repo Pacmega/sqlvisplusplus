{
 "cells": [
  {
   "cell_type": "markdown",
   "id": "1bd86613",
   "metadata": {},
   "source": [
    "## For all of these queries, the expected results can be found in O.R. Odynchuk's Master's Thesis \"Identifying and Visualizing Scoping Syntax Errors in SQL\"."
   ]
  },
  {
   "cell_type": "code",
   "execution_count": null,
   "id": "3d1538b3",
   "metadata": {},
   "outputs": [],
   "source": [
    "from sqlvis import vis\n",
    "import sqlite3\n",
    "\n",
    "conn = sqlite3.connect('../../data/shopping_with_inventory.db')"
   ]
  },
  {
   "cell_type": "code",
   "execution_count": null,
   "id": "96788f37",
   "metadata": {},
   "outputs": [],
   "source": [
    "# Retrieve the schema from the db connection\n",
    "schema = vis.schema_from_conn(conn)\n",
    "schema"
   ]
  },
  {
   "cell_type": "markdown",
   "id": "b5caa4ab",
   "metadata": {},
   "source": [
    "**Problem 1**"
   ]
  },
  {
   "cell_type": "code",
   "execution_count": null,
   "id": "f764e789",
   "metadata": {
    "tags": [
     "raises-exception"
    ]
   },
   "outputs": [],
   "source": [
    "query = '''\n",
    "SELECT p1.tID, p1.pID, p2.pID\n",
    "FROM prchase as p1, purchase as p2\n",
    "WHERE p1.tID = p2.tID and p1.pID != p2.ID\n",
    "'''\n",
    "\n",
    "# Generate the visualization.\n",
    "vis.visualize(query, schema)\n",
    "\n",
    "cur = conn.cursor()\n",
    "res = cur.execute(query)\n",
    "res.fetchall()"
   ]
  },
  {
   "cell_type": "markdown",
   "id": "62782e0f",
   "metadata": {},
   "source": [
    "**Problem 2**"
   ]
  },
  {
   "cell_type": "code",
   "execution_count": null,
   "id": "4cf39694",
   "metadata": {
    "tags": [
     "raises-exception"
    ]
   },
   "outputs": [],
   "source": [
    "query = '''\n",
    "SELECT c.cID, c.cName\n",
    "FROM customer as c\n",
    "WHERE city = `Eindhoven`\n",
    "'''\n",
    "\n",
    "# Generate the visualization.\n",
    "vis.visualize(query, schema)\n",
    "\n",
    "cur = conn.cursor()\n",
    "res = cur.execute(query)\n",
    "res.fetchall()"
   ]
  },
  {
   "cell_type": "markdown",
   "id": "74fb4d38",
   "metadata": {},
   "source": [
    "**Problem 3**"
   ]
  },
  {
   "cell_type": "code",
   "execution_count": null,
   "id": "7faa6824",
   "metadata": {
    "tags": [
     "raises-exception"
    ]
   },
   "outputs": [],
   "source": [
    "query = '''\n",
    "SELECT c.cID , c.cName\n",
    "FROM customer as c\n",
    "WHERE customer.street = 'Onbekendeweg'\n",
    "'''\n",
    "\n",
    "# Generate the visualization.\n",
    "vis.visualize(query, schema)\n",
    "\n",
    "cur = conn.cursor()\n",
    "res = cur.execute(query)\n",
    "res.fetchall()"
   ]
  },
  {
   "cell_type": "markdown",
   "id": "5030e9d8",
   "metadata": {},
   "source": [
    "**Problem 4**"
   ]
  },
  {
   "cell_type": "code",
   "execution_count": null,
   "id": "d3ba2839",
   "metadata": {
    "scrolled": true,
    "tags": [
     "raises-exception"
    ]
   },
   "outputs": [],
   "source": [
    "query = '''\n",
    "SELECT c.cityID , sID , s.city\n",
    "FROM customer as c\n",
    "JOIN store as s on c.city = s.city\n",
    "'''\n",
    "\n",
    "# Generate the visualization.\n",
    "vis.visualize(query, schema)\n",
    "\n",
    "cur = conn.cursor()\n",
    "res = cur.execute(query)\n",
    "res.fetchall()"
   ]
  },
  {
   "cell_type": "markdown",
   "id": "a556a986",
   "metadata": {},
   "source": [
    "**Problem 5**"
   ]
  },
  {
   "cell_type": "code",
   "execution_count": null,
   "id": "e60a54b8",
   "metadata": {
    "tags": [
     "raises-exception"
    ]
   },
   "outputs": [],
   "source": [
    "query = '''\n",
    "SELECT distinct(s.sName)\n",
    "FROM store as s\n",
    "WHERE EXISTS (SELECT *\n",
    "              FROM purchas as p\n",
    "              WHERE p.sID = s.sID\n",
    "              and p . quantity > 9)\n",
    "'''\n",
    "\n",
    "# Generate the visualization.\n",
    "vis.visualize(query, schema)\n",
    "\n",
    "cur = conn.cursor()\n",
    "res = cur.execute(query)\n",
    "res.fetchall()"
   ]
  },
  {
   "cell_type": "markdown",
   "id": "47845e39",
   "metadata": {},
   "source": [
    "**Problem 6**"
   ]
  },
  {
   "cell_type": "code",
   "execution_count": null,
   "id": "ccf4ce18",
   "metadata": {
    "tags": [
     "raises-exception"
    ]
   },
   "outputs": [],
   "source": [
    "query = '''\n",
    "SELECT c.cID , cPur.pID\n",
    "FROM customer c, (SELECT * FROM purchase p WHERE p.cID = c.cID) cPur\n",
    "WHERE c.city = 'Eindhoven'\n",
    "'''\n",
    "\n",
    "# Generate the visualization.\n",
    "vis.visualize(query, schema)\n",
    "\n",
    "cur = conn.cursor()\n",
    "res = cur.execute(query)\n",
    "res.fetchall()"
   ]
  },
  {
   "cell_type": "markdown",
   "id": "b0682c64",
   "metadata": {},
   "source": [
    "**Problem 7**"
   ]
  },
  {
   "cell_type": "code",
   "execution_count": null,
   "id": "8ee07c35",
   "metadata": {
    "tags": [
     "raises-exception"
    ]
   },
   "outputs": [],
   "source": [
    "query = '''\n",
    "SELECT p.pID\n",
    "FROM purchase as p , product as p\n",
    "WHERE p.pID = p.pID and p.quantity = 1 and p.price >= 100\n",
    "'''\n",
    "\n",
    "# Generate the visualization.\n",
    "vis.visualize(query, schema)\n",
    "\n",
    "cur = conn.cursor()\n",
    "res = cur.execute(query)\n",
    "res.fetchall()"
   ]
  },
  {
   "cell_type": "markdown",
   "id": "492cc5d1",
   "metadata": {},
   "source": [
    "**Problem 8**"
   ]
  },
  {
   "cell_type": "code",
   "execution_count": null,
   "id": "b73b3e7e",
   "metadata": {
    "tags": [
     "raises-exception"
    ]
   },
   "outputs": [],
   "source": [
    "query = '''\n",
    "WITH bprice as (SELECT i2.unit_price, i2.sID\n",
    "                FROM inventory i2, product p2\n",
    "                WHERE i2.pID = p2.pID\n",
    "                and p2.pName = 'Bananas')\n",
    "SELECT pName , i.sID\n",
    "FROM product p , inventory i\n",
    "WHERE p.pID = i.pID and bprice.sID = i.sID\n",
    "and bprice.unit_price < i.unit_price\n",
    "'''\n",
    "\n",
    "# Generate the visualization.\n",
    "vis.visualize(query, schema)\n",
    "\n",
    "cur = conn.cursor()\n",
    "res = cur.execute(query)\n",
    "res.fetchall()"
   ]
  },
  {
   "cell_type": "markdown",
   "id": "3a2c26ea",
   "metadata": {},
   "source": [
    "**Problem 9**"
   ]
  },
  {
   "cell_type": "code",
   "execution_count": null,
   "id": "cd45599e",
   "metadata": {
    "tags": [
     "raises-exception"
    ]
   },
   "outputs": [],
   "source": [
    "query = '''\n",
    "SELECT cID, cName, street\n",
    "FROM (SELECT *\n",
    "      FROM customer\n",
    "      WHERE customer.street <> 'Bredalaan') a\n",
    "WHERE exists (SELECT *\n",
    "              FROM purchase p\n",
    "              WHERE p.cID = customer.cID)\n",
    "'''\n",
    "\n",
    "# Generate the visualization.\n",
    "vis.visualize(query, schema)\n",
    "\n",
    "cur = conn.cursor()\n",
    "res = cur.execute(query)\n",
    "res.fetchall()"
   ]
  },
  {
   "cell_type": "markdown",
   "id": "5af3a93a",
   "metadata": {},
   "source": [
    "**Problem 10**"
   ]
  },
  {
   "cell_type": "code",
   "execution_count": null,
   "id": "84d4c6c0",
   "metadata": {
    "tags": [
     "raises-exception"
    ]
   },
   "outputs": [],
   "source": [
    "query = '''\n",
    "SELECT s.city, s.name , count(s.sID) as number\n",
    "FROM store s , purchase p\n",
    "WHERE p.ID = s.ID\n",
    "GROUP BY city, sName\n",
    "HAVING avg(p.quantity) > 4\n",
    "'''\n",
    "\n",
    "# Generate the visualization.\n",
    "vis.visualize(query, schema)\n",
    "\n",
    "cur = conn.cursor()\n",
    "res = cur.execute(query)\n",
    "res.fetchall()"
   ]
  },
  {
   "cell_type": "markdown",
   "id": "1bb4314b",
   "metadata": {},
   "source": [
    "**Problem 11**"
   ]
  },
  {
   "cell_type": "code",
   "execution_count": null,
   "id": "d76bf87f",
   "metadata": {
    "tags": [
     "raises-exception"
    ]
   },
   "outputs": [],
   "source": [
    "query = '''\n",
    "SELECT c.cID, c.cName\n",
    "FROM customr c\n",
    "WHERE EXISTS (SELECT *\n",
    "              FROM puchase as p\n",
    "              WHERE p.cID = c.cID\n",
    "              and p.price > 12)\n",
    "'''\n",
    "\n",
    "# Generate the visualization.\n",
    "vis.visualize(query, schema)\n",
    "\n",
    "cur = conn.cursor()\n",
    "res = cur.execute(query)\n",
    "res.fetchall()"
   ]
  },
  {
   "cell_type": "markdown",
   "id": "1a79a9f2",
   "metadata": {},
   "source": [
    "**Problem 12**"
   ]
  },
  {
   "cell_type": "code",
   "execution_count": null,
   "id": "436d6deb",
   "metadata": {
    "tags": [
     "raises-exception"
    ]
   },
   "outputs": [],
   "source": [
    "query = '''\n",
    "WITH expensiveProducts as (SELECT p.pID, pName, sID, unit_price\n",
    "                           FROM product p, inventory i\n",
    "                           WHERE p.pID = i.pID and i.unit_price > 3.50)\n",
    "SELECT distinct(s.sID), s.sName\n",
    "FROM store s\n",
    "WHERE store.city <> 'Eindhoven' and expensiveProducts.sID = s.sID\n",
    "'''\n",
    "\n",
    "# Generate the visualization.\n",
    "vis.visualize(query, schema)\n",
    "\n",
    "cur = conn.cursor()\n",
    "res = cur.execute(query)\n",
    "res.fetchall()"
   ]
  },
  {
   "cell_type": "markdown",
   "id": "6a0c326d",
   "metadata": {},
   "source": [
    "**Problem 13**"
   ]
  },
  {
   "cell_type": "code",
   "execution_count": null,
   "id": "cfb9bb99",
   "metadata": {
    "tags": [
     "raises-exception"
    ]
   },
   "outputs": [],
   "source": [
    "query = '''\n",
    "WITH cheapProducts as (SELECT pID, pName, sID, unit_price\n",
    "                       FROM product p, inventory i\n",
    "                       WHERE p.pID = i.pID\n",
    "                       and i.unit_price < 1.00)\n",
    "SELECT pID, sID, pName, min(unit_price)\n",
    "FROM cheapProducts c, store s\n",
    "WHERE c.sID = s.sID\n",
    "GROUP BY pID\n",
    "'''\n",
    "\n",
    "# Generate the visualization.\n",
    "vis.visualize(query, schema)\n",
    "\n",
    "cur = conn.cursor()\n",
    "res = cur.execute(query)\n",
    "res.fetchall()"
   ]
  },
  {
   "cell_type": "markdown",
   "id": "f09b98f8",
   "metadata": {},
   "source": [
    "**Problem 14**"
   ]
  },
  {
   "cell_type": "code",
   "execution_count": null,
   "id": "58d815a5",
   "metadata": {
    "tags": [
     "raises-exception"
    ]
   },
   "outputs": [],
   "source": [
    "query = '''\n",
    "SELECT p . pID\n",
    "FROM purchase p , product pr\n",
    "WHERE p.pID = pr.pID and pr.pName <> `Banana` and p.price <> `100`\n",
    "'''\n",
    "\n",
    "# Generate the visualization.\n",
    "vis.visualize(query, schema)\n",
    "\n",
    "cur = conn.cursor()\n",
    "res = cur.execute(query)\n",
    "res.fetchall()"
   ]
  },
  {
   "cell_type": "markdown",
   "id": "a0559d29",
   "metadata": {},
   "source": [
    "**Problem 15**"
   ]
  },
  {
   "cell_type": "code",
   "execution_count": null,
   "id": "0a06258f",
   "metadata": {},
   "outputs": [],
   "source": [
    "query = '''\n",
    "SELECT c.ID, c.cName\n",
    "FROM customer c\n",
    "WHERE not exists (SELECT *\n",
    "                  FROM product p\n",
    "                  WHERE not exists (SELECT *\n",
    "                                    FROM purchase pur\n",
    "                                    WHERE pur.cID = c.ID\n",
    "                                    and pur.pID = p.pID))\n",
    "'''\n",
    "\n",
    "# Generate the visualization.\n",
    "vis.visualize(query, schema)\n",
    "\n",
    "cur = conn.cursor()\n",
    "res = cur.execute(query)\n",
    "res.fetchall()"
   ]
  },
  {
   "cell_type": "markdown",
   "id": "6b3598b6",
   "metadata": {},
   "source": [
    "**Problem 16**"
   ]
  },
  {
   "cell_type": "code",
   "execution_count": null,
   "id": "c605b6eb",
   "metadata": {},
   "outputs": [],
   "source": [
    "query = '''\n",
    "SELECT pName, i.sID\n",
    "FROM product p, inventory i, (SELECT i2.unit_price, i2.sID\n",
    "                              FROM inventory i2\n",
    "                              WHERE i2.pID = p.pID\n",
    "                              and p.pName = \"Bananas\") as bprice\n",
    "WHERE p.pID = i.pID\n",
    "and bprice.sID = i.sID\n",
    "and bprice.unit_price < i.unit_price\n",
    "'''\n",
    "\n",
    "# Generate the visualization.\n",
    "vis.visualize(query, schema)\n",
    "\n",
    "cur = conn.cursor()\n",
    "res = cur.execute(query)\n",
    "res.fetchall()"
   ]
  }
 ],
 "metadata": {
  "celltoolbar": "Tags",
  "kernelspec": {
   "display_name": "Python 3 (ipykernel)",
   "language": "python",
   "name": "python3"
  },
  "language_info": {
   "codemirror_mode": {
    "name": "ipython",
    "version": 3
   },
   "file_extension": ".py",
   "mimetype": "text/x-python",
   "name": "python",
   "nbconvert_exporter": "python",
   "pygments_lexer": "ipython3",
   "version": "3.8.10"
  }
 },
 "nbformat": 4,
 "nbformat_minor": 5
}
