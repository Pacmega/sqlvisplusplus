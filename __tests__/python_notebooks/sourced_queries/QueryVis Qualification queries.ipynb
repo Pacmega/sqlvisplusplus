{
 "cells": [
  {
   "cell_type": "code",
   "execution_count": null,
   "id": "c9047472",
   "metadata": {},
   "outputs": [],
   "source": [
    "from sqlvis import vis"
   ]
  },
  {
   "cell_type": "code",
   "execution_count": null,
   "id": "6dfdba04",
   "metadata": {},
   "outputs": [],
   "source": [
    "import sqlite3\n",
    "\n",
    "students_conn = sqlite3.connect('../../data/QueryVis qualification students dataset.db')\n",
    "forums_conn = sqlite3.connect('../../data/QueryVis qualification forums dataset.db')\n",
    "music_conn = sqlite3.connect('../../data/QueryVis main user study DB.db')\n",
    "\n",
    "students_schema = vis.schema_from_conn(students_conn)\n",
    "forums_schema = vis.schema_from_conn(forums_conn)\n",
    "music_schema = vis.schema_from_conn(music_conn)"
   ]
  },
  {
   "cell_type": "code",
   "execution_count": null,
   "id": "66b2ad06",
   "metadata": {},
   "outputs": [],
   "source": [
    "students_schema"
   ]
  },
  {
   "cell_type": "code",
   "execution_count": null,
   "id": "a4cb1d9c",
   "metadata": {},
   "outputs": [],
   "source": [
    "forums_schema"
   ]
  },
  {
   "cell_type": "code",
   "execution_count": null,
   "id": "1a0ca7d5",
   "metadata": {},
   "outputs": [],
   "source": [
    "music_schema"
   ]
  },
  {
   "cell_type": "markdown",
   "id": "5ae100a4",
   "metadata": {},
   "source": [
    "# Students questions on Github\n",
    "[queryvis-mturk Github SQL file link](https://github.com/leventidis/queryvis-mturk/blob/master/static/Qualification%20test.sql)\n",
    "\n",
    "**Problem 1:**\n",
    "\n",
    "Show names of courses that 'Student A' Registered for."
   ]
  },
  {
   "cell_type": "code",
   "execution_count": null,
   "id": "295fffd0",
   "metadata": {
    "scrolled": false
   },
   "outputs": [],
   "source": [
    "query = '''\n",
    "SELECT c.Course_Name\n",
    "FROM Courses c \n",
    "    INNER JOIN StudentCourseRegistration r ON c.CourseID = r.CourseID\n",
    "    INNER JOIN Students s ON s.StudentID = r.StudentID\n",
    "WHERE Student_Name = 'Student A';\n",
    "'''\n",
    "\n",
    "# Generate the visualization.\n",
    "vis.visualize(query, students_schema)\n",
    "\n",
    "cur = students_conn.cursor()\n",
    "res = cur.execute(query)\n",
    "output = res.fetchall()\n",
    "print('Query output:\\n', output)"
   ]
  },
  {
   "cell_type": "code",
   "execution_count": null,
   "id": "f0089699",
   "metadata": {},
   "outputs": [],
   "source": [
    "# Should be effectively the same visualization\n",
    "query = '''\n",
    "SELECT c.Course_Name\n",
    "FROM Courses c, StudentCourseRegistration r, Students s \n",
    "WHERE Student_Name = 'Student A'\n",
    "and c.CourseID = r.CourseID\n",
    "and s.StudentID = r.StudentID;\n",
    "'''\n",
    "\n",
    "# Generate the visualization.\n",
    "vis.visualize(query, students_schema)\n",
    "\n",
    "cur = students_conn.cursor()\n",
    "res = cur.execute(query)\n",
    "output = res.fetchall()\n",
    "print('Query output:\\n', output)\n",
    "\n"
   ]
  },
  {
   "cell_type": "markdown",
   "id": "bab2c3d0",
   "metadata": {},
   "source": [
    "**Problem 2:**\n",
    "\n",
    "Show courses with course names and the number of student in each course"
   ]
  },
  {
   "cell_type": "code",
   "execution_count": null,
   "id": "971af937",
   "metadata": {},
   "outputs": [],
   "source": [
    "# In standard SQLVis, the COUNT(*) remains curiously invisible in the vis.\n",
    "query = '''\n",
    "SELECT Course_Name, COUNT(*)\n",
    "FROM Courses c\n",
    "    JOIN StudentCourseRegistration r ON c.CourseID = r.CourseID\n",
    "GROUP BY r.CourseID;\n",
    "'''\n",
    "\n",
    "# Generate the visualization.\n",
    "vis.visualize(query, students_schema)\n",
    "\n",
    "cur = students_conn.cursor()\n",
    "res = cur.execute(query)\n",
    "output = res.fetchall()\n",
    "print('Query output:\\n', output)"
   ]
  },
  {
   "cell_type": "code",
   "execution_count": null,
   "id": "cbddd62e",
   "metadata": {
    "tags": [
     "raises-exception"
    ]
   },
   "outputs": [],
   "source": [
    "# SQLVis (or rather, its parser) does not support NATURAL JOIN.\n",
    "# Query is valid and runs fine though...?\n",
    "query = '''\n",
    "SELECT Course_Name, COUNT(*)\n",
    "FROM Courses c\n",
    "    NATURAL JOIN StudentCourseRegistration r\n",
    "GROUP BY r.CourseID;\n",
    "'''\n",
    "\n",
    "# Generate the visualization.\n",
    "vis.visualize(query, students_schema)\n",
    "\n",
    "cur = students_conn.cursor()\n",
    "res = cur.execute(query)\n",
    "output = res.fetchall()\n",
    "print('Query output:\\n', output)"
   ]
  },
  {
   "cell_type": "markdown",
   "id": "93bcd672",
   "metadata": {},
   "source": [
    "**Problem 3:**\n",
    "\n",
    "Find students who registered for some course or courses."
   ]
  },
  {
   "cell_type": "code",
   "execution_count": null,
   "id": "f79aec0d",
   "metadata": {
    "scrolled": false
   },
   "outputs": [],
   "source": [
    "query = '''\n",
    "SELECT *\n",
    "FROM Students\n",
    "WHERE StudentID IN (SELECT StudentID\n",
    "                    FROM StudentCourseRegistration); \n",
    "'''\n",
    "\n",
    "# Generate the visualization.\n",
    "vis.visualize(query, students_schema)\n",
    "\n",
    "cur = students_conn.cursor()\n",
    "res = cur.execute(query)\n",
    "output = res.fetchall()\n",
    "print('Query output:\\n', output)"
   ]
  },
  {
   "cell_type": "markdown",
   "id": "592e1419",
   "metadata": {},
   "source": [
    "# Forums questions on Github\n",
    "\n",
    "**Problem 4:**\n",
    "\n",
    "List posts that were posted after January 1, 2017 0:0:0"
   ]
  },
  {
   "cell_type": "code",
   "execution_count": null,
   "id": "47899f34",
   "metadata": {},
   "outputs": [],
   "source": [
    "query = '''\n",
    "SELECT * FROM Posts WHERE Post_DateTime > '2017-01-01 0:0:0';\n",
    "'''\n",
    "\n",
    "# Generate the visualization.\n",
    "vis.visualize(query, forums_schema)\n",
    "\n",
    "cur = forums_conn.cursor()\n",
    "res = cur.execute(query)\n",
    "output = res.fetchall()\n",
    "print('Query output:\\n', output)"
   ]
  },
  {
   "cell_type": "markdown",
   "id": "86212ca9",
   "metadata": {},
   "source": [
    "**Problem 5:**\n",
    "\n",
    "List forums that have no post."
   ]
  },
  {
   "cell_type": "code",
   "execution_count": null,
   "id": "25ae75cd",
   "metadata": {},
   "outputs": [],
   "source": [
    "# SQLVis does not show anything about the WHERE NOT EXISTS?\n",
    "query = '''\n",
    "SELECT *\n",
    "FROM Forums\n",
    "WHERE NOT EXISTS (SELECT *\n",
    "                  FROM Posts\n",
    "                  WHERE Post_ForumID = ForumID);\n",
    "'''\n",
    "\n",
    "# Generate the visualization.\n",
    "vis.visualize(query, forums_schema)\n",
    "\n",
    "cur = forums_conn.cursor()\n",
    "res = cur.execute(query)\n",
    "output = res.fetchall()\n",
    "print('Query output:\\n', output)"
   ]
  },
  {
   "cell_type": "markdown",
   "id": "7a14f006",
   "metadata": {},
   "source": [
    "**Problem 6:**\n",
    "\n",
    "List all forums by name in which there are at least 2 posts"
   ]
  },
  {
   "cell_type": "code",
   "execution_count": null,
   "id": "7af0015b",
   "metadata": {},
   "outputs": [],
   "source": [
    "# Why is there no visualization at all??\n",
    "query = '''\n",
    "SELECT Forum_Name, COUNT(PostID)\n",
    "FROM Posts\n",
    "    JOIN Forums ON ForumID = Post_ForumID\n",
    "GROUP BY Post_ForumID\n",
    "HAVING COUNT(PostID) >= 2;\n",
    "'''\n",
    "\n",
    "# Generate the visualization.\n",
    "vis.visualize(query, forums_schema)\n",
    "\n",
    "cur = forums_conn.cursor()\n",
    "res = cur.execute(query)\n",
    "output = res.fetchall()\n",
    "print('Query output:\\n', output)"
   ]
  },
  {
   "cell_type": "markdown",
   "id": "9a7706c2",
   "metadata": {},
   "source": [
    "# Qualification Test Questions\n",
    "As made available on [link](https://osf.io/aw387)\n",
    "\n",
    "**Question #1**"
   ]
  },
  {
   "cell_type": "code",
   "execution_count": null,
   "id": "de358cd1",
   "metadata": {
    "scrolled": true
   },
   "outputs": [],
   "source": [
    "query = '''\n",
    "SELECT P.PlaylistId, P.Name\n",
    "FROM Playlist P, PlaylistTrack PT, Track T, Album AL, Artist A\n",
    "WHERE P.PlaylistId = PT.PlaylistId\n",
    "AND PT.TrackId = T.TrackId\n",
    "AND T.AlbumId = AL. AlbumId\n",
    "AND AL.ArtistId = A.ArtistId\n",
    "AND A.Name = 'AC/DC';\n",
    "'''\n",
    "\n",
    "# Generate the visualization.\n",
    "vis.visualize(query, music_schema)\n",
    "\n",
    "cur = music_conn.cursor()\n",
    "res = cur.execute(query)\n",
    "output = res.fetchall()\n",
    "print('Query output:\\n', output)"
   ]
  },
  {
   "cell_type": "markdown",
   "id": "04e058cd",
   "metadata": {},
   "source": [
    "**Question 2**"
   ]
  },
  {
   "cell_type": "code",
   "execution_count": null,
   "id": "8e6da0fb",
   "metadata": {
    "scrolled": false
   },
   "outputs": [],
   "source": [
    "query = '''\n",
    "SELECT C.CustomerId, C.FirstName, C.LastName\n",
    "FROM Customer C, Invoice I, InvoiceLine IL1, InvoiceLine IL2,\n",
    "     Track T1, Track T2\n",
    "WHERE C.CustomerId = I.CustomerId\n",
    "AND I.InvoiceId = IL1.InvoiceId\n",
    "AND I.InvoiceId = IL2.InvoiceId\n",
    "AND IL1.TrackId = T1.TrackId\n",
    "AND IL2.TrackId = T2.TrackId\n",
    "AND T1.GenreId <> T2.GenreId;\n",
    "'''\n",
    "\n",
    "# Generate the visualization.\n",
    "vis.visualize(query, music_schema)\n",
    "\n",
    "cur = music_conn.cursor()\n",
    "res = cur.execute(query)\n",
    "output = res.fetchall()\n",
    "print('Query output (truncated):\\n', output[:100])"
   ]
  },
  {
   "cell_type": "markdown",
   "id": "d2f2797f",
   "metadata": {},
   "source": [
    "**Question 3**"
   ]
  },
  {
   "cell_type": "code",
   "execution_count": null,
   "id": "70d45ab9",
   "metadata": {},
   "outputs": [],
   "source": [
    "query = '''\n",
    "SELECT P.PlaylistId, G.Name, COUNT(T.TrackId)\n",
    "FROM Playlist P, PlaylistTrack PT, Track T, Genre G\n",
    "WHERE P.PlaylistId = PT.PlaylistId\n",
    "AND PT.TrackId = T.TrackId\n",
    "AND T.GenreId = G.GenreId\n",
    "GROUP BY P.PlaylistId, G.Name;\n",
    "'''\n",
    "\n",
    "# Generate the visualization.\n",
    "vis.visualize(query, music_schema)\n",
    "\n",
    "cur = music_conn.cursor()\n",
    "res = cur.execute(query)\n",
    "output = res.fetchall()\n",
    "print('Query output:\\n', output)"
   ]
  },
  {
   "cell_type": "markdown",
   "id": "c9cb3423",
   "metadata": {},
   "source": [
    "**Question 4**"
   ]
  },
  {
   "cell_type": "code",
   "execution_count": null,
   "id": "0179aa65",
   "metadata": {},
   "outputs": [],
   "source": [
    "query = '''\n",
    "SELECT A.ArtistId, A.Name\n",
    "FROM Artist A\n",
    "WHERE NOT EXISTS (SELECT *\n",
    "                  FROM Album AL\n",
    "                  WHERE AL.ArtistId = A.ArtistId\n",
    "                  AND NOT EXISTS (SELECT *\n",
    "                                  FROM Track T, MediaType MT\n",
    "                                  WHERE AL.AlbumId = T.AlbumId\n",
    "                                  AND T.MediaTypeId = MT.MediaTypeId\n",
    "                                  AND MT.Name = 'ACC audio file')\n",
    "                 );\n",
    "'''\n",
    "\n",
    "# Generate the visualization.\n",
    "vis.visualize(query, music_schema)\n",
    "\n",
    "cur = music_conn.cursor()\n",
    "res = cur.execute(query)\n",
    "output = res.fetchall()\n",
    "print('Query output:\\n', output)"
   ]
  },
  {
   "cell_type": "markdown",
   "id": "9d95dc41",
   "metadata": {},
   "source": [
    "**Question 5**"
   ]
  },
  {
   "cell_type": "code",
   "execution_count": null,
   "id": "320daacc",
   "metadata": {},
   "outputs": [],
   "source": [
    "query = '''\n",
    "SELECT C1.CustomerId, C1.FirstName, C1.LastName\n",
    "FROM Customer C1, Invoice I1, InvoiceLine IL1,\n",
    "     Track T1, Album AL1, Artist A1\n",
    "WHERE C1.customerId = I1.CustomerId\n",
    "AND I1.InvoiceId = IL1.InvoiceId\n",
    "AND IL1.TrackId = T1.TrackId\n",
    "AND T1.AlbumId = AL1.AlbumId\n",
    "AND AL1.ArtistId = A1.ArtistId\n",
    "AND A1.Name = 'AC/DC'\n",
    "AND NOT EXISTS (SELECT *\n",
    "                FROM Customer C2, Invoice I2, InvoiceLine IL2,\n",
    "                     Track T2, Album AL2, Artist A2\n",
    "                WHERE C2.CustomerId <> C1.CustomerId\n",
    "                AND C1.City = C2.City\n",
    "                AND C2.CustomerId = I2.CustomerId\n",
    "                AND I2.InvoiceId = IL2.InvoiceId\n",
    "                AND IL2.TrackId = T2.TrackId\n",
    "                AND T2.AlbumId = AL2.AlbumId\n",
    "                AND AL2.ArtistId = A2.ArtistId\n",
    "                AND A2.Name = 'AC/DC');\n",
    "'''\n",
    "\n",
    "# Generate the visualization.\n",
    "vis.visualize(query, music_schema)\n",
    "\n",
    "cur = music_conn.cursor()\n",
    "res = cur.execute(query)\n",
    "output = res.fetchall()\n",
    "print('Query output:\\n', output)"
   ]
  },
  {
   "cell_type": "markdown",
   "id": "6452ee1c",
   "metadata": {},
   "source": [
    "**Question 6**"
   ]
  },
  {
   "cell_type": "code",
   "execution_count": null,
   "id": "1a14a722",
   "metadata": {},
   "outputs": [],
   "source": [
    "query = '''\n",
    "SELECT E1.EmployeeId, COUNT(C.CustomerId), AVG(I.Total)\n",
    "FROM Employee E1, Employee E2, Customer C, Invoice I\n",
    "WHERE E1.ReportsTo = E2.EmployeeId\n",
    "AND E1.Country <> E2.Country\n",
    "AND E1.EmployeeId = C.SupportRepId\n",
    "AND E1.Country = C.Country\n",
    "AND C.CustomerId = I.CustomerId\n",
    "GROUP BY E1.EmployeeId;\n",
    "'''\n",
    "\n",
    "# Generate the visualization.\n",
    "vis.visualize(query, music_schema)\n",
    "\n",
    "cur = music_conn.cursor()\n",
    "res = cur.execute(query)\n",
    "output = res.fetchall()\n",
    "print('Query output:\\n', output)"
   ]
  }
 ],
 "metadata": {
  "celltoolbar": "Tags",
  "kernelspec": {
   "display_name": "Python 3 (ipykernel)",
   "language": "python",
   "name": "python3"
  },
  "language_info": {
   "codemirror_mode": {
    "name": "ipython",
    "version": 3
   },
   "file_extension": ".py",
   "mimetype": "text/x-python",
   "name": "python",
   "nbconvert_exporter": "python",
   "pygments_lexer": "ipython3",
   "version": "3.8.10"
  }
 },
 "nbformat": 4,
 "nbformat_minor": 5
}
