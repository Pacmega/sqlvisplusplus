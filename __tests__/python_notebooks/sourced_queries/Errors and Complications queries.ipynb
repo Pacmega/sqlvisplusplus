{
 "cells": [
  {
   "cell_type": "markdown",
   "id": "edcda734",
   "metadata": {},
   "source": [
    "## Interestingly, I had to adapt these queries somewhat because the DB schema at the end of the paper does not match the queries shown at times.\n",
    "### For the queries that are specifically of interest to my work, ctrl-F and search for those with 'grouping' in their title."
   ]
  },
  {
   "cell_type": "code",
   "execution_count": null,
   "id": "e121709c",
   "metadata": {},
   "outputs": [],
   "source": [
    "from sqlvis import vis\n",
    "import sqlite3\n",
    "\n",
    "conn = sqlite3.connect('../../data/movie_database.db')"
   ]
  },
  {
   "cell_type": "code",
   "execution_count": null,
   "id": "96788f37",
   "metadata": {},
   "outputs": [],
   "source": [
    "# Retrieve the shema from the db connection\n",
    "schema = vis.schema_from_conn(conn)"
   ]
  },
  {
   "cell_type": "code",
   "execution_count": null,
   "id": "134ba36b",
   "metadata": {},
   "outputs": [],
   "source": [
    "schema"
   ]
  },
  {
   "cell_type": "markdown",
   "id": "d433eba0",
   "metadata": {},
   "source": [
    "**Introduction: semantic error #1 (p5)**\n",
    "\n",
    "This one is more seriously adapted, there was no quick but sensible change within the employee table. Concept remains the same, however."
   ]
  },
  {
   "cell_type": "code",
   "execution_count": null,
   "id": "6e4e815c",
   "metadata": {},
   "outputs": [],
   "source": [
    "query = '''\n",
    "SELECT *\n",
    "FROM store\n",
    "WHERE city = 'Eindhoven' AND city = 'Tilburg';\n",
    "'''\n",
    "\n",
    "# Generate the visualization.\n",
    "vis.visualize(query, schema)\n",
    "\n",
    "cur = conn.cursor()\n",
    "res = cur.execute(query)\n",
    "output = res.fetchall()\n",
    "print('Query output:\\n', output)"
   ]
  },
  {
   "cell_type": "markdown",
   "id": "e8861d2d",
   "metadata": {},
   "source": [
    "**Introduction: valid query #1 (p5)**"
   ]
  },
  {
   "cell_type": "code",
   "execution_count": null,
   "id": "2520bc40",
   "metadata": {},
   "outputs": [],
   "source": [
    "query = '''\n",
    "SELECT *\n",
    "FROM store\n",
    "WHERE city = 'Eindhoven' OR city = 'Tilburg';\n",
    "'''\n",
    "\n",
    "# Generate the visualization.\n",
    "vis.visualize(query, schema)\n",
    "\n",
    "cur = conn.cursor()\n",
    "res = cur.execute(query)\n",
    "output = res.fetchall()\n",
    "print('Query output:\\n', output)"
   ]
  },
  {
   "cell_type": "markdown",
   "id": "f490ae0e",
   "metadata": {},
   "source": [
    "**Insufficient grouping #1 (p12)**"
   ]
  },
  {
   "cell_type": "code",
   "execution_count": null,
   "id": "7faa6824",
   "metadata": {},
   "outputs": [],
   "source": [
    "query = '''\n",
    "SELECT cust_id, MAX(fee)\n",
    "FROM customer;\n",
    "'''\n",
    "\n",
    "# Generate the visualization.\n",
    "vis.visualize(query, schema)\n",
    "\n",
    "cur = conn.cursor()\n",
    "res = cur.execute(query)\n",
    "output = res.fetchall()\n",
    "print('Query output:\\n', output)"
   ]
  },
  {
   "cell_type": "markdown",
   "id": "cb9d2b5b",
   "metadata": {},
   "source": [
    "**Insufficient grouping #2 (p12)**"
   ]
  },
  {
   "cell_type": "code",
   "execution_count": null,
   "id": "c9909ae9",
   "metadata": {},
   "outputs": [],
   "source": [
    "query = '''\n",
    "SELECT cust_id, MIN(fee), MAX(fee)\n",
    "FROM customer;\n",
    "'''\n",
    "\n",
    "# Generate the visualization.\n",
    "vis.visualize(query, schema)\n",
    "\n",
    "cur = conn.cursor()\n",
    "res = cur.execute(query)\n",
    "output = res.fetchall()\n",
    "print('Query output:\\n', output)"
   ]
  },
  {
   "cell_type": "markdown",
   "id": "723f77bb",
   "metadata": {},
   "source": [
    "**Illegal grouping #1 (p13)**\n",
    "\n",
    "Note: do FD's require data analysis necessarily? Because if so, this may not be detectable for SQLVis."
   ]
  },
  {
   "cell_type": "code",
   "execution_count": null,
   "id": "56fb675e",
   "metadata": {},
   "outputs": [],
   "source": [
    "query = '''\n",
    "SELECT cust_id, MIN(fee), MAX(fee)\n",
    "FROM customer\n",
    "GROUP BY dob;\n",
    "'''\n",
    "\n",
    "# Generate the visualization.\n",
    "vis.visualize(query, schema)\n",
    "\n",
    "cur = conn.cursor()\n",
    "res = cur.execute(query)\n",
    "output = res.fetchall()\n",
    "print('Query output:\\n', output)"
   ]
  },
  {
   "cell_type": "markdown",
   "id": "df062f8d",
   "metadata": {},
   "source": [
    "**Insufficient grouping #3 (p13)**"
   ]
  },
  {
   "cell_type": "code",
   "execution_count": null,
   "id": "f7b42ed9",
   "metadata": {},
   "outputs": [],
   "source": [
    "query = '''\n",
    "SELECT cust_id, dob, AVG(fee)\n",
    "FROM customer\n",
    "GROUP BY dob;\n",
    "'''\n",
    "\n",
    "# Generate the visualization.\n",
    "vis.visualize(query, schema)\n",
    "\n",
    "cur = conn.cursor()\n",
    "res = cur.execute(query)\n",
    "output = res.fetchall()\n",
    "print('Query output:\\n', output)"
   ]
  },
  {
   "cell_type": "markdown",
   "id": "d8a4c3c6",
   "metadata": {},
   "source": [
    "**Inconsistent join #1 (p14)**"
   ]
  },
  {
   "cell_type": "code",
   "execution_count": null,
   "id": "57589275",
   "metadata": {},
   "outputs": [],
   "source": [
    "query = '''\n",
    "SELECT cust_id\n",
    "FROM customer\n",
    "WHERE cust_id IN (SELECT renno\n",
    "                  FROM rental)\n",
    "'''\n",
    "\n",
    "# Generate the visualization.\n",
    "vis.visualize(query, schema)\n",
    "\n",
    "cur = conn.cursor()\n",
    "res = cur.execute(query)\n",
    "output = res.fetchall()\n",
    "print('Query output:\\n', output)"
   ]
  },
  {
   "cell_type": "markdown",
   "id": "b87f1aa1",
   "metadata": {},
   "source": [
    "**Inconsistent join #2 (p14)**"
   ]
  },
  {
   "cell_type": "code",
   "execution_count": null,
   "id": "1772ee03",
   "metadata": {},
   "outputs": [],
   "source": [
    "query = '''\n",
    "SELECT s1.stono, s1.street\n",
    "FROM store s1, store s2\n",
    "WHERE s1.city = s1.city\n",
    "AND s2.stono = 100\n",
    "AND s1.stono <>100;\n",
    "'''\n",
    "\n",
    "# Generate the visualization.\n",
    "vis.visualize(query, schema)\n",
    "\n",
    "cur = conn.cursor()\n",
    "res = cur.execute(query)\n",
    "output = res.fetchall()\n",
    "print('Query output:\\n', output)"
   ]
  },
  {
   "cell_type": "markdown",
   "id": "5a979ddb",
   "metadata": {},
   "source": [
    "**Logical errors are excluded, as whether something is a logical error is unknown without the specific data demand. Because of this, no general approach for detecting these without additional input is possible.**"
   ]
  },
  {
   "cell_type": "markdown",
   "id": "484f5320",
   "metadata": {},
   "source": [
    "**The exercises they used in their study are also not included, as we most likely have plenty diverse valid queries already.**"
   ]
  }
 ],
 "metadata": {
  "kernelspec": {
   "display_name": "Python 3 (ipykernel)",
   "language": "python",
   "name": "python3"
  },
  "language_info": {
   "codemirror_mode": {
    "name": "ipython",
    "version": 3
   },
   "file_extension": ".py",
   "mimetype": "text/x-python",
   "name": "python",
   "nbconvert_exporter": "python",
   "pygments_lexer": "ipython3",
   "version": "3.8.10"
  }
 },
 "nbformat": 4,
 "nbformat_minor": 5
}
