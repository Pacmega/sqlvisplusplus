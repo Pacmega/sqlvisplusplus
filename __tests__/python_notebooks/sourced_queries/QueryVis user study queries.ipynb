{
 "cells": [
  {
   "cell_type": "code",
   "execution_count": null,
   "id": "c9047472",
   "metadata": {},
   "outputs": [],
   "source": [
    "from sqlvis import vis"
   ]
  },
  {
   "cell_type": "code",
   "execution_count": null,
   "id": "6dfdba04",
   "metadata": {},
   "outputs": [],
   "source": [
    "import sqlite3\n",
    "\n",
    "music_conn = sqlite3.connect('../../data/QueryVis main user study DB.db')\n",
    "music_schema = vis.schema_from_conn(music_conn)\n",
    "music_schema"
   ]
  },
  {
   "cell_type": "markdown",
   "id": "5ae100a4",
   "metadata": {},
   "source": [
    "# SQL queries as used in the user QueryVis user study\n",
    "[Link to the user study slides these queries are from](https://osf.io/bke5r)\n",
    "\n",
    "**Conjunctive Query #1**"
   ]
  },
  {
   "cell_type": "code",
   "execution_count": null,
   "id": "de358cd1",
   "metadata": {
    "scrolled": true
   },
   "outputs": [],
   "source": [
    "query = '''\n",
    "SELECT A.Name\n",
    "FROM Artist A, Album AL, Track T\n",
    "WHERE AL.AlbumId = T.AlbumId\n",
    "AND A.ArtistId = AL.ArtistId\n",
    "AND A.Name = T.Composer;\n",
    "'''\n",
    "\n",
    "# Generate the visualization.\n",
    "vis.visualize(query, music_schema)\n",
    "\n",
    "cur = music_conn.cursor()\n",
    "res = cur.execute(query)\n",
    "output = res.fetchall()\n",
    "print('Query output:\\n', output)"
   ]
  },
  {
   "cell_type": "markdown",
   "id": "04e058cd",
   "metadata": {},
   "source": [
    "**Conjunctive Query #2**"
   ]
  },
  {
   "cell_type": "code",
   "execution_count": null,
   "id": "8e6da0fb",
   "metadata": {
    "scrolled": false
   },
   "outputs": [],
   "source": [
    "query = '''\n",
    "SELECT E1.EmployeeId\n",
    "FROM Employee E1, Employee E2, Customer C, Invoice I,\n",
    "     InvoiceLine IL, Track T, Genre G \n",
    "WHERE E1.ReportsTo = E2.EmployeeId\n",
    "AND E1.Country <> E2.Country\n",
    "AND E2.EmployeeId = C.SupportRepId\n",
    "AND I.CustomerId = C.CustomerId\n",
    "AND I.InvoiceId = IL.InvoiceId\n",
    "AND T.TrackId = IL.TrackId\n",
    "AND T.GenreId = G.GenreId\n",
    "AND G.Name = 'Rock';\n",
    "'''\n",
    "\n",
    "# Generate the visualization.\n",
    "vis.visualize(query, music_schema)\n",
    "\n",
    "cur = music_conn.cursor()\n",
    "res = cur.execute(query)\n",
    "output = res.fetchall()\n",
    "print('Query output:\\n', output)"
   ]
  },
  {
   "cell_type": "markdown",
   "id": "d2f2797f",
   "metadata": {},
   "source": [
    "**Conjunctive Query #3**"
   ]
  },
  {
   "cell_type": "code",
   "execution_count": null,
   "id": "70d45ab9",
   "metadata": {},
   "outputs": [],
   "source": [
    "query = '''\n",
    "SELECT A.Name\n",
    "FROM Artist A, Album AL, Track T, PlaylistTrack PT,\n",
    "     Playlist P, MediaType MT, Genre G, InvoiceLine IL,\n",
    "     Invoice I, Customer C\n",
    "WHERE AL.ArtistId = A.ArtistId\n",
    "AND AL.AlbumId = T.AlbumId\n",
    "AND T.TrackId = PT.TrackId\n",
    "AND P.PlaylistId = PT.PlaylistId\n",
    "AND T.MediaTypeId = MT.MediaTypeId\n",
    "AND G.GenreId = T.GenreId\n",
    "AND T.TrackId = IL.TrackId\n",
    "AND I.InvoiceId = IL.InvoiceId\n",
    "AND I.CustomerId = C.CustomerId\n",
    "AND MT.Name = 'AAC audio file'\n",
    "AND G.Name = 'Rock';\n",
    "'''\n",
    "\n",
    "# Generate the visualization.\n",
    "vis.visualize(query, music_schema)\n",
    "\n",
    "cur = music_conn.cursor()\n",
    "res = cur.execute(query)\n",
    "output = res.fetchall()\n",
    "print('Query output:\\n', output)"
   ]
  },
  {
   "cell_type": "markdown",
   "id": "c9cb3423",
   "metadata": {},
   "source": [
    "**Self-Join Query #1**"
   ]
  },
  {
   "cell_type": "code",
   "execution_count": null,
   "id": "0179aa65",
   "metadata": {
    "scrolled": true
   },
   "outputs": [],
   "source": [
    "query = '''\n",
    "SELECT A.ArtistId, A.Name\n",
    "FROM Artist A, Album AL1, Album AL2, Track T1, Track T2,\n",
    "     Genre G1, Genre G2, PlaylistTrack PT1, PlaylistTrack PT2\n",
    "WHERE A.ArtistId = AL1.ArtistId\n",
    "AND A.ArtistId = AL2.ArtistId\n",
    "AND AL1.AlbumId = T1.AlbumId\n",
    "AND AL2.AlbumId = T2.AlbumId\n",
    "AND T1.GenreId = G1.GenreId\n",
    "AND T2.GenreId = G2.GenreId\n",
    "AND PT1.PlaylistId = PT2.PlaylistId\n",
    "AND PT1.TrackId = T1.TrackId\n",
    "AND PT2.TrackId = T2.TrackId\n",
    "AND G1.Name = 'Rock'\n",
    "AND G2.Name = 'Pop';\n",
    "'''\n",
    "\n",
    "# Generate the visualization.\n",
    "vis.visualize(query, music_schema)\n",
    "\n",
    "cur = music_conn.cursor()\n",
    "res = cur.execute(query)\n",
    "output = res.fetchall()\n",
    "print('Query output (truncated):\\n', output[:100])"
   ]
  },
  {
   "cell_type": "markdown",
   "id": "9d95dc41",
   "metadata": {},
   "source": [
    "**Self-Join Query #2**"
   ]
  },
  {
   "cell_type": "code",
   "execution_count": null,
   "id": "320daacc",
   "metadata": {},
   "outputs": [],
   "source": [
    "query = '''\n",
    "SELECT C.CustomerId, C.FirstName, C.LastName\n",
    "FROM Customer C, Invoice I1, Invoice I2\n",
    "WHERE C.State = 'Michigan'\n",
    "AND C.CustomerId = I1.CustomerId\n",
    "AND C.CustomerId = I2.CustomerId\n",
    "AND I1.BillingState <> I2.BillingState;\n",
    "'''\n",
    "\n",
    "# Generate the visualization.\n",
    "vis.visualize(query, music_schema)\n",
    "\n",
    "cur = music_conn.cursor()\n",
    "res = cur.execute(query)\n",
    "output = res.fetchall()\n",
    "print('Query output:\\n', output)"
   ]
  },
  {
   "cell_type": "markdown",
   "id": "6452ee1c",
   "metadata": {},
   "source": [
    "**Self-Join Query #3**"
   ]
  },
  {
   "cell_type": "code",
   "execution_count": null,
   "id": "1a14a722",
   "metadata": {},
   "outputs": [],
   "source": [
    "query = '''\n",
    "SELECT P.PlaylistId, P.Name\n",
    "FROM Playlist P, PlaylistTrack PT1, PlaylistTrack PT2, \n",
    "     PlaylistTrack PT3, Track T1, Track T2, Track T3\n",
    "WHERE P.PlaylistId = PT1.PlaylistId\n",
    "AND P.PlaylistId = PT2.PlaylistId\n",
    "AND P.PlaylistId = PT3.PlaylistId\n",
    "AND PT1.TrackId <> PT2.TrackId\n",
    "AND PT2.TrackId <> PT3.TrackId\n",
    "AND PT1.TrackId <> PT3.TrackId\n",
    "AND PT1.TrackId = T1.TrackId\n",
    "AND PT2.TrackId = T2.TrackId\n",
    "AND PT3.TrackId = T3.TrackId\n",
    "AND T1.AlbumId = T2.AlbumId\n",
    "AND T2.AlbumId = T3.AlbumId\n",
    "AND T2.Composer = T3.Composer;\n",
    "'''\n",
    "\n",
    "# Generate the visualization.\n",
    "vis.visualize(query, music_schema)\n",
    "\n",
    "print('Not executed, as warnings are created over this'\n",
    "      ' and no output is given.')\n",
    "# cur = music_conn.cursor()\n",
    "# res = cur.execute(query)\n",
    "# output = res.fetchall()\n",
    "# print('Query output:\\n', output)"
   ]
  },
  {
   "cell_type": "markdown",
   "id": "0ecdd9a3",
   "metadata": {},
   "source": [
    "**Grouping Query #1**"
   ]
  },
  {
   "cell_type": "code",
   "execution_count": null,
   "id": "1487b00a",
   "metadata": {},
   "outputs": [],
   "source": [
    "query = '''\n",
    "SELECT I.CustomerId, SUM(IL.Quantity)\n",
    "FROM Artist A, Album AL, Track T, InvoiceLine IL, Invoice I\n",
    "WHERE A.ArtistId = AL.ArtistId\n",
    "AND AL.AlbumId = T.AlbumId\n",
    "AND T.TrackId = IL.TrackId\n",
    "AND IL.InvoiceId = I.InvoiceId\n",
    "AND A.Name = 'Carlos'\n",
    "GROUP BY I.CustomerId;\n",
    "'''\n",
    "\n",
    "# Generate the visualization.\n",
    "vis.visualize(query, music_schema)\n",
    "\n",
    "cur = music_conn.cursor()\n",
    "res = cur.execute(query)\n",
    "output = res.fetchall()\n",
    "print('Query output:\\n', output)"
   ]
  },
  {
   "cell_type": "markdown",
   "id": "495e8785",
   "metadata": {},
   "source": [
    "**Grouping Query #2**"
   ]
  },
  {
   "cell_type": "code",
   "execution_count": null,
   "id": "416d1b0b",
   "metadata": {},
   "outputs": [],
   "source": [
    "query = '''\n",
    "SELECT T.AlbumId, MAX(T.Milliseconds)\n",
    "FROM Track T, Playlist P, PlaylistTrack PT, Genre G\n",
    "WHERE T.TrackId = PT.TrackId\n",
    "AND P.PlaylistId = PT.PlaylistId\n",
    "AND T.GenreId = G.GenreId\n",
    "AND G.Name = 'Classical'\n",
    "GROUP BY T.AlbumId\n",
    "'''\n",
    "\n",
    "# Generate the visualization.\n",
    "vis.visualize(query, music_schema)\n",
    "\n",
    "cur = music_conn.cursor()\n",
    "res = cur.execute(query)\n",
    "output = res.fetchall()\n",
    "print('Query output:\\n', output)"
   ]
  },
  {
   "cell_type": "markdown",
   "id": "108d686c",
   "metadata": {},
   "source": [
    "**Grouping Query #3**"
   ]
  },
  {
   "cell_type": "code",
   "execution_count": null,
   "id": "84f217eb",
   "metadata": {},
   "outputs": [],
   "source": [
    "query = '''\n",
    "SELECT G.Name, MAX(T.Milliseconds)\n",
    "FROM Playlist P, PlaylistTrack PT, Track T, Genre G, \n",
    "     InvoiceLine IL, Invoice I, Customer C\n",
    "WHERE T.GenreId = G.GenreId\n",
    "AND T.TrackId = IL.TrackId\n",
    "AND IL.InvoiceId = I.InvoiceId\n",
    "AND I.CustomerId = C.CustomerId\n",
    "AND PT.TrackId = T.TrackId\n",
    "AND P.PlaylistId = PT.PlaylistId\n",
    "AND P.Name = 'workout'\n",
    "AND C.Country = 'France'\n",
    "GROUP BY G.Name\n",
    "'''\n",
    "\n",
    "# Generate the visualization.\n",
    "vis.visualize(query, music_schema)\n",
    "\n",
    "cur = music_conn.cursor()\n",
    "res = cur.execute(query)\n",
    "output = res.fetchall()\n",
    "print('Query output:\\n', output)"
   ]
  },
  {
   "cell_type": "markdown",
   "id": "3411988e",
   "metadata": {},
   "source": [
    "**Nested Query #1**"
   ]
  },
  {
   "cell_type": "code",
   "execution_count": null,
   "id": "9d0f3535",
   "metadata": {},
   "outputs": [],
   "source": [
    "query = '''\n",
    "SELECT A.ArtistId, A.Name\n",
    "FROM Artist A\n",
    "WHERE NOT EXISTS (SELECT * \n",
    "                  FROM Album AL, Track T\n",
    "                  WHERE A.ArtistId = AL.ArtistId\n",
    "                  AND AL.AlbumId = T.AlbumId\n",
    "                  AND T.Composer = A.Name\n",
    "                 );\n",
    "'''\n",
    "\n",
    "# Generate the visualization.\n",
    "vis.visualize(query, music_schema)\n",
    "\n",
    "cur = music_conn.cursor()\n",
    "res = cur.execute(query)\n",
    "output = res.fetchall()\n",
    "print('Query output (truncated):\\n', output[:100])"
   ]
  },
  {
   "cell_type": "markdown",
   "id": "515c0270",
   "metadata": {},
   "source": [
    "**Nested Query #2**"
   ]
  },
  {
   "cell_type": "code",
   "execution_count": null,
   "id": "9092cd7c",
   "metadata": {},
   "outputs": [],
   "source": [
    "query = '''\n",
    "SELECT A.ArtistId, A.Name\n",
    "FROM Artist A, Album AL1, Album AL2\n",
    "WHERE A.ArtistId = AL1.ArtistId\n",
    "AND A.ArtistId = AL2.ArtistId \n",
    "AND AL1.AlbumId <> AL2.AlbumId\n",
    "AND NOT EXISTS (SELECT * \n",
    "                FROM Track T1, Genre G1\n",
    "                WHERE AL1.AlbumId = T1.AlbumId\n",
    "                AND T1.GenreId = G1.GenreId\n",
    "                AND G1.Name = 'Rock'\n",
    "               )\n",
    "AND NOT EXISTS (SELECT * \n",
    "                FROM Track T2\n",
    "                WHERE AL2.AlbumId = T2.AlbumId\n",
    "                AND T2.Milliseconds < 27000\n",
    "               );\n",
    "'''\n",
    "\n",
    "# Generate the visualization.\n",
    "vis.visualize(query, music_schema)\n",
    "\n",
    "cur = music_conn.cursor()\n",
    "res = cur.execute(query)\n",
    "output = res.fetchall()\n",
    "print('Query output (truncated):\\n', output[:100])"
   ]
  },
  {
   "cell_type": "markdown",
   "id": "c9096f76",
   "metadata": {},
   "source": [
    "**Nested Query #3**"
   ]
  },
  {
   "cell_type": "code",
   "execution_count": null,
   "id": "e6232552",
   "metadata": {},
   "outputs": [],
   "source": [
    "query = '''\n",
    "SELECT A.ArtistId, A.Name\n",
    "FROM Artist A, Album AL\n",
    "WHERE A.ArtistId = AL.ArtistId\n",
    "AND NOT EXISTS (SELECT *\n",
    "                FROM Track T, Genre G\n",
    "                WHERE AL.AlbumId = T.AlbumId\n",
    "                AND T.GenreId = G.GenreId\n",
    "                AND G.Name = 'Jazz'\n",
    "                AND NOT EXISTS (SELECT *\n",
    "                                FROM Playlist P, PlaylistTrack PT\n",
    "                                WHERE P.PlaylistId = PT.PlaylistId\n",
    "                                AND PT.TrackId = T.TrackId\n",
    "                               )\n",
    "               );\n",
    "'''\n",
    "\n",
    "# Generate the visualization.\n",
    "vis.visualize(query, music_schema)\n",
    "\n",
    "cur = music_conn.cursor()\n",
    "res = cur.execute(query)\n",
    "output = res.fetchall()\n",
    "print('Query output (truncated):\\n', output[:100])"
   ]
  }
 ],
 "metadata": {
  "celltoolbar": "Tags",
  "kernelspec": {
   "display_name": "Python 3 (ipykernel)",
   "language": "python",
   "name": "python3"
  },
  "language_info": {
   "codemirror_mode": {
    "name": "ipython",
    "version": 3
   },
   "file_extension": ".py",
   "mimetype": "text/x-python",
   "name": "python",
   "nbconvert_exporter": "python",
   "pygments_lexer": "ipython3",
   "version": "3.8.10"
  }
 },
 "nbformat": 4,
 "nbformat_minor": 5
}
