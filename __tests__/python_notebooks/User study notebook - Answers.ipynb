{
 "cells": [
  {
   "cell_type": "code",
   "execution_count": 1,
   "id": "c7b4a400",
   "metadata": {},
   "outputs": [],
   "source": [
    "from sqlvis import vis\n",
    "import sqlite3\n",
    "\n",
    "conn = sqlite3.connect('../../data/shopping.db')"
   ]
  },
  {
   "cell_type": "code",
   "execution_count": 2,
   "id": "8268607a",
   "metadata": {},
   "outputs": [],
   "source": [
    "# Retrieve the schema from the db connection\n",
    "schema = vis.schema_from_conn(conn)\n",
    "schema"
   ]
  },
  {
   "cell_type": "markdown",
   "id": "ae1c0ee8",
   "metadata": {},
   "source": [
    "# Missing: Shopping database diagram"
   ]
  },
  {
   "cell_type": "markdown",
   "id": "d81a7858",
   "metadata": {},
   "source": [
    "## Demonstration: normal query\n",
    "Give the prices of each purchase made by each customer, and for each of these specify the name of the customer that made that purchase."
   ]
  },
  {
   "cell_type": "code",
   "execution_count": 4,
   "id": "4294989a",
   "metadata": {},
   "outputs": [],
   "source": [
    "query = '''\n",
    "SELECT p.price, c.cName\n",
    "FROM customer AS c, purchase AS p\n",
    "WHERE c.cID = p.cID\n",
    "'''\n",
    "\n",
    "# Generate the visualization.\n",
    "vis.visualize(query, schema)\n",
    "\n",
    "cur = conn.cursor()\n",
    "res = cur.execute(query)\n",
    "output = res.fetchall()\n",
    "print('Query output:\\n', output)"
   ]
  },
  {
   "cell_type": "markdown",
   "id": "a9186f6a",
   "metadata": {},
   "source": [
    "## Demonstration 2\n",
    "Give the total amount of money spent in stores for each individual day. Only include small purchases (less than five things bought), and only include days where many purchases were done (more than fifty purchases)."
   ]
  },
  {
   "cell_type": "code",
   "execution_count": 5,
   "id": "c37d485b",
   "metadata": {},
   "outputs": [],
   "source": [
    "query = '''\n",
    "SELECT p.date, SUM(p.price)\n",
    "FROM purchase AS p\n",
    "WHERE quantity < 5\n",
    "GROUP BY p.date\n",
    "HAVING COUNT(tID) > 50\n",
    "'''\n",
    "\n",
    "# Generate the visualization.\n",
    "vis.visualize(query, schema)\n",
    "\n",
    "cur = conn.cursor()\n",
    "res = cur.execute(query)\n",
    "output = res.fetchall()\n",
    "print('Query output:\\n', output)"
   ]
  },
  {
   "cell_type": "markdown",
   "id": "bb7e1804",
   "metadata": {},
   "source": [
    "## Demonstration: query with error\n",
    "Give the total amount of money spent in stores for each individual day. Only include large scale purchases (more than ten things bought), and only include days where few purchases were done (less than five purchases)."
   ]
  },
  {
   "cell_type": "code",
   "execution_count": 6,
   "id": "1cca419d",
   "metadata": {},
   "outputs": [],
   "source": [
    "query = '''\n",
    "SELECT SUM(p.price)\n",
    "FROM purchase AS p\n",
    "WHERE p.quantity > 10\n",
    "GROUP BY p.date\n",
    "HAVING COUNT(p.pID) < 5\n",
    "'''\n",
    "\n",
    "# Generate the visualization.\n",
    "vis.visualize(query, schema)\n",
    "\n",
    "cur = conn.cursor()\n",
    "res = cur.execute(query)\n",
    "output = res.fetchall()\n",
    "print('Query output:\\n', output)"
   ]
  },
  {
   "cell_type": "markdown",
   "id": "bdd7aa37",
   "metadata": {},
   "source": [
    "## Problem 1\n",
    "For each customer, give both their largest and smallest amounts of money they have spent on a single purchase."
   ]
  },
  {
   "cell_type": "code",
   "execution_count": 13,
   "id": "77fb6c08",
   "metadata": {},
   "outputs": [],
   "source": [
    "query = '''\n",
    "SELECT MAX(p.price), MIN(p.price), cName\n",
    "FROM customer AS c, purchase AS p\n",
    "WHERE c.cID = p.cID\n",
    "GROUP BY cName\n",
    "'''\n",
    "\n",
    "# Generate the visualization.\n",
    "vis.visualize(query, schema)\n",
    "\n",
    "cur = conn.cursor()\n",
    "res = cur.execute(query)\n",
    "output = res.fetchall()\n",
    "print('Query output:\\n', output)"
   ]
  },
  {
   "cell_type": "markdown",
   "id": "a493f17a",
   "metadata": {},
   "source": [
    "## Problem 2\n",
    "On a per-city and per-day basis, report per customer what their smallest and largest purchases on that day were."
   ]
  },
  {
   "cell_type": "code",
   "execution_count": 14,
   "id": "86c1fffc",
   "metadata": {},
   "outputs": [],
   "source": [
    "query = '''\n",
    "SELECT MAX(p.price), date, MIN(p.price), cName, c.city\n",
    "FROM customer AS c, purchase AS p\n",
    "WHERE c.cID = p.cID\n",
    "GROUP BY cName, c.city, date\n",
    "'''\n",
    "\n",
    "# Generate the visualization.\n",
    "vis.visualize(query, schema)\n",
    "\n",
    "cur = conn.cursor()\n",
    "res = cur.execute(query)\n",
    "output = res.fetchall()\n",
    "print('Query output:\\n', output)"
   ]
  },
  {
   "cell_type": "markdown",
   "id": "29ce9f31",
   "metadata": {},
   "source": [
    "## Problem 3\n",
    "What is the maximum and minimum amount spent in a single purchase by each customer? Consider only customers who have made purchases with a quantity greater than 5."
   ]
  },
  {
   "cell_type": "code",
   "execution_count": 16,
   "id": "3eae90d8",
   "metadata": {},
   "outputs": [],
   "source": [
    "query = '''\n",
    "SELECT MAX(p.price), MIN(p.price), cName\n",
    "FROM customer AS c, purchase AS p\n",
    "WHERE c.cID = p.cID\n",
    "GROUP BY cName\n",
    "HAVING p.quantity > 5\n",
    "'''\n",
    "\n",
    "# Generate the visualization.\n",
    "vis.visualize(query, schema)\n",
    "\n",
    "cur = conn.cursor()\n",
    "res = cur.execute(query)\n",
    "output = res.fetchall()\n",
    "print('Query output:\\n', output)"
   ]
  },
  {
   "cell_type": "markdown",
   "id": "e738591d",
   "metadata": {},
   "source": [
    "## Problem 4\n",
    "Find each customer's number of items purchased per store. Only consider cases where the customer lives in the same city where the store is they purchased the items at."
   ]
  },
  {
   "cell_type": "code",
   "execution_count": 17,
   "id": "5ccbb043",
   "metadata": {},
   "outputs": [],
   "source": [
    "query = '''\n",
    "SELECT s.sName, c.cName, SUM(p.quantity)\n",
    "FROM customer AS c, purchase AS p, store AS s\n",
    "WHERE c.cID = p.cID\n",
    "WHERE s.city = c.city\n",
    "WHERE s.sID = p.sID\n",
    "WHERE p.date < 5\n",
    "'''\n",
    "\n",
    "# Generate the visualization.\n",
    "vis.visualize(query, schema)\n",
    "\n",
    "cur = conn.cursor()\n",
    "res = cur.execute(query)\n",
    "output = res.fetchall()\n",
    "print('Query output:\\n', output)"
   ]
  },
  {
   "cell_type": "markdown",
   "id": "e86636d4",
   "metadata": {},
   "source": [
    "## Problem 5\n",
    "Find the total quantity of products purchased per store in Eindhoven, by customers from Eindhoven who made fewer than 10 purchases (transactions) in that store."
   ]
  },
  {
   "cell_type": "code",
   "execution_count": 18,
   "id": "ce9ae849",
   "metadata": {},
   "outputs": [],
   "source": [
    "query = '''\n",
    "SELECT s.sName, c.cName, SUM(p.quantity)\n",
    "FROM customer AS c, purchase AS p, store AS s\n",
    "WHERE c.cID = p.cID\n",
    "AND s.city = c.city\n",
    "AND COUNT(p.pID) < 10\n",
    "GROUP BY c.cName, s.sName\n",
    "WHERE s.sName IN (FROM store AS s2\n",
    "                   SELECT s2.sName\n",
    "                   WHERE s2.city = 'Eindhoven'\n",
    "                   GROUP BY s2.sID\n",
    "                  )\n",
    "'''\n",
    "\n",
    "# Generate the visualization.\n",
    "vis.visualize(query, schema)\n",
    "\n",
    "cur = conn.cursor()\n",
    "res = cur.execute(query)\n",
    "output = res.fetchall()\n",
    "print('Query output:\\n', output)"
   ]
  },
  {
   "cell_type": "markdown",
   "id": "050bb871",
   "metadata": {},
   "source": [
    "## Problem 6\n",
    "Which store names and corresponding purchase dates are associated with purchases made from stores that satisfy the following conditions:\n",
    "- The store's name must contain the letter 'e'.\n",
    "- There must be at least two other stores with the letter 'e' in the same city.\n",
    "- The store must be in a city where at least 20 registered customers live. These customers do not need to ever have bought anything at this particular store."
   ]
  },
  {
   "cell_type": "code",
   "execution_count": 21,
   "id": "daadca6e",
   "metadata": {},
   "outputs": [],
   "source": [
    "query = '''\n",
    "WITH confusion AS (\n",
    "    SELECT s1.sName, s1.city\n",
    "    FROM store AS s1\n",
    "    WHERE s1.sName LIKE '%e%'\n",
    "    GROUP BY s1.city\n",
    "    HAVING s1.city IN (SELECT c1.city\n",
    "                       FROM customer AS c1\n",
    "                       GROUP BY c1.city\n",
    "                       HAVING COUNT(c1.cID) > 20\n",
    "                       )\n",
    "    AND COUNT(s1.sID) > 2\n",
    "    )\n",
    "\n",
    "SELECT s2.sName, pur.date\n",
    "FROM confusion AS co, purchase AS pur, store as s2\n",
    "WHERE s2.sName = co.sName\n",
    "AND s2.sID = pur.sID\n",
    "'''\n",
    "\n",
    "# Generate the visualization.\n",
    "vis.visualize(query, schema)\n",
    "\n",
    "cur = conn.cursor()\n",
    "res = cur.execute(query)\n",
    "output = res.fetchall()\n",
    "print('Query output:\\n', output)"
   ]
  },
  {
   "cell_type": "markdown",
   "id": "71c326a0",
   "metadata": {},
   "source": [
    "## Problem 7\n",
    "We want to know whether customers from a particular city spend more or less money at our stores. What are the maximum and minimum amounts of money spent in a single purchase, grouped on the city where the customers come from? Only include customer cities from where the inhabitants buy more than 5 products at once on average and at least 2 items at once in a purchase. For some reason, management also wants the customers to specifically come from addresses with 'straat' in the name."
   ]
  },
  {
   "cell_type": "code",
   "execution_count": 23,
   "id": "bde62458",
   "metadata": {},
   "outputs": [],
   "source": [
    "query = '''\n",
    "SELECT MAX(p.price), MIN(p.price), c.city\n",
    "FROM customer AS c, purchase AS p\n",
    "WHERE c.cID = p.cID\n",
    "GROUP BY c.city\n",
    "HAVING AVG(p.quantity) > 5\n",
    "AND MIN(p.quantity) > 2\n",
    "AND c.street LIKE '%straat%'\n",
    "'''\n",
    "\n",
    "# Generate the visualization.\n",
    "vis.visualize(query, schema)\n",
    "\n",
    "cur = conn.cursor()\n",
    "res = cur.execute(query)\n",
    "output = res.fetchall()\n",
    "print('Query output:\\n', output)"
   ]
  },
  {
   "cell_type": "markdown",
   "id": "1037622c",
   "metadata": {},
   "source": [
    "## Problem 8\n",
    "Find the largest and smallest amounts of money spent in a purchase per day."
   ]
  },
  {
   "cell_type": "code",
   "execution_count": 24,
   "id": "a477e585",
   "metadata": {},
   "outputs": [],
   "source": [
    "query = '''\n",
    "SELECT MAX(p.price), MIN(p.price), p.date\n",
    "FROM purchase AS p\n",
    "GROUP BY p.date\n",
    "'''\n",
    "\n",
    "# Generate the visualization.\n",
    "vis.visualize(query, schema)\n",
    "\n",
    "cur = conn.cursor()\n",
    "res = cur.execute(query)\n",
    "output = res.fetchall()\n",
    "print('Query output:\\n', output)"
   ]
  },
  {
   "cell_type": "markdown",
   "id": "5efc5070",
   "metadata": {},
   "source": [
    "## Problem 9\n",
    "Which products have been purchased by customers in each city, and what is the average quantity of those products for each city?"
   ]
  },
  {
   "cell_type": "code",
   "execution_count": 25,
   "id": "b42f0be4",
   "metadata": {},
   "outputs": [],
   "source": [
    "query = '''\n",
    "SELECT c.city, p.pName, AVG(pur.quantity) AS average_quantity, pur.pID\n",
    "FROM customer AS c, purchase AS pur, product as p\n",
    "WHERE c.cID = pur.cID\n",
    "AND p.pID = pur.pID\n",
    "GROUP BY c.city, pur.pID, p.pName\n",
    "'''\n",
    "\n",
    "# Generate the visualization.\n",
    "vis.visualize(query, schema)\n",
    "\n",
    "cur = conn.cursor()\n",
    "res = cur.execute(query)\n",
    "output = res.fetchall()\n",
    "print('Query output:\\n', output)"
   ]
  },
  {
   "cell_type": "markdown",
   "id": "28ef5889",
   "metadata": {},
   "source": [
    "## Problem 10\n",
    "For each store, find each individual customer's records for their largest and smallest amounts spent in a single purchase."
   ]
  },
  {
   "cell_type": "code",
   "execution_count": 27,
   "id": "684e9ffd",
   "metadata": {},
   "outputs": [],
   "source": [
    "query = '''\n",
    "SELECT MAX(p.price), MIN(p.price), cName, sName\n",
    "FROM customer AS c, purchase AS p, store AS s\n",
    "WHERE c.cID = p.cID\n",
    "AND s.sID = p.sID\n",
    "GROUP BY sName, cName\n",
    "'''\n",
    "\n",
    "# Generate the visualization.\n",
    "vis.visualize(query, schema)\n",
    "\n",
    "cur = conn.cursor()\n",
    "res = cur.execute(query)\n",
    "output = res.fetchall()\n",
    "print('Query output:\\n', output)"
   ]
  },
  {
   "cell_type": "code",
   "execution_count": null,
   "id": "3ab4e4da",
   "metadata": {},
   "outputs": [],
   "source": []
  }
 ],
 "metadata": {
  "kernelspec": {
   "display_name": "Python 3",
   "language": "python",
   "name": "python3"
  },
  "language_info": {
   "codemirror_mode": {
    "name": "ipython",
    "version": 3
   },
   "file_extension": ".py",
   "mimetype": "text/x-python",
   "name": "python",
   "nbconvert_exporter": "python",
   "pygments_lexer": "ipython3",
   "version": "3.6.15"
  }
 },
 "nbformat": 4,
 "nbformat_minor": 5
}
