{
 "cells": [
  {
   "cell_type": "code",
   "execution_count": 11,
   "id": "a63a4dc1",
   "metadata": {
    "scrolled": false
   },
   "outputs": [],
   "source": [
    "import json\n",
    "\n",
    "with open('User study notebook.ipynb', 'r') as notebook_json:\n",
    "    notebook_data = json.load(notebook_json)\n",
    "    for index in range(len(notebook_data['cells'])):\n",
    "        if 'outputs' in notebook_data['cells'][index]:\n",
    "            notebook_data['cells'][index]['outputs'] = []\n",
    "            \n",
    "    with open('User study notebook.ipynb', 'w', encoding='utf-8') as f:\n",
    "        json.dump(notebook_data, f, ensure_ascii=False, indent=4)"
   ]
  },
  {
   "cell_type": "markdown",
   "id": "9401ede4",
   "metadata": {},
   "source": [
    "Now, reload/reopen the browser tab you have/had the notebook in. All output should be gone, and new JS code should be run when you run the cells again."
   ]
  }
 ],
 "metadata": {
  "kernelspec": {
   "display_name": "Python 3 (ipykernel)",
   "language": "python",
   "name": "python3"
  },
  "language_info": {
   "codemirror_mode": {
    "name": "ipython",
    "version": 3
   },
   "file_extension": ".py",
   "mimetype": "text/x-python",
   "name": "python",
   "nbconvert_exporter": "python",
   "pygments_lexer": "ipython3",
   "version": "3.8.10"
  }
 },
 "nbformat": 4,
 "nbformat_minor": 5
}
